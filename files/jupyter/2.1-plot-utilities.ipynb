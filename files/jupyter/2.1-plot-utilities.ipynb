{
 "cells": [
  {
   "cell_type": "code",
   "execution_count": null,
   "metadata": {},
   "outputs": [],
   "source": [
    "# Initialize Notebook\n",
    "from IPython.core.display import HTML,Image\n",
    "#%run ../library/v1.0.5/init.ipy\n",
    "HTML('''<script> code_show=true;  function code_toggle() {  if (code_show){  $('div.input').hide();  } else {  $('div.input').show();  }  code_show = !code_show }  $( document ).ready(code_toggle); </script> <form action=\"javascript:code_toggle()\"><input type=\"submit\" value=\"Toggle Code\"></form>''')"
   ]
  },
  {
   "cell_type": "code",
   "execution_count": null,
   "metadata": {},
   "outputs": [],
   "source": [
    "cd ~/projects/exSEEK_training/"
   ]
  },
  {
   "cell_type": "code",
   "execution_count": null,
   "metadata": {
    "scrolled": true
   },
   "outputs": [],
   "source": [
    "import gc, argparse, sys, os, errno\n",
    "from functools import reduce\n",
    "%pylab inline\n",
    "import numpy as np\n",
    "import pandas as pd\n",
    "import matplotlib.pyplot as plt\n",
    "import seaborn as sns\n",
    "from tqdm import tqdm_notebook as tqdm\n",
    "import scipy\n",
    "import sklearn\n",
    "from scipy.stats import pearsonr\n",
    "import warnings\n",
    "warnings.filterwarnings('ignore')\n",
    "from bokeh.io import output_notebook, show\n",
    "output_notebook()\n",
    "from sklearn.decomposition import PCA\n",
    "from sklearn.manifold import TSNE\n",
    "from sklearn.metrics import roc_curve,roc_auc_score,auc,precision_recall_curve,average_precision_score\n",
    "from sklearn.preprocessing import RobustScaler,MinMaxScaler,StandardScaler\n",
    "from sklearn.neighbors import NearestNeighbors\n",
    "from bokeh.palettes import Category20c\n",
    "from ipywidgets import interact,interactive, FloatSlider,IntSlider, RadioButtons,Dropdown,Tab,Text"
   ]
  },
  {
   "cell_type": "markdown",
   "metadata": {},
   "source": [
    "# load plotting functions\n",
    "embed pdf; std_plot; display dataframe"
   ]
  },
  {
   "cell_type": "code",
   "execution_count": null,
   "metadata": {},
   "outputs": [],
   "source": [
    "def embed_pdf_figure(width='640', height='480', title='Image'):\n",
    "    data = BytesIO()\n",
    "    plt.savefig(data, format='pdf', metadata={'Title': title})\n",
    "    data = data.getvalue()\n",
    "    data = 'data:application/pdf;base64,'+ str(b64encode(data), encoding='utf-8')\n",
    "    display(HTML('<object width=\"{}\" height=\"{}\" data=\"{}\" download=\"{}.pdf\"></object>'.format(\n",
    "        width, height, data, title)))\n",
    "    plt.close()\n",
    "    \n",
    "\n",
    "from matplotlib.backends.backend_pdf import PdfPages, PdfFile\n",
    "from IPython.display import HTML, display, FileLink\n",
    "from base64 import b64encode, b64decode\n",
    "from io import StringIO, BytesIO\n",
    "from contextlib import contextmanager\n",
    "\n",
    "@contextmanager\n",
    "def embed_pdf_pages(width=960, height=480, title='Image'):\n",
    "    data = BytesIO()\n",
    "    try:\n",
    "        pdf = PdfPages(data, metadata={'Title': title})\n",
    "        yield pdf\n",
    "    finally:\n",
    "        pdf.close()\n",
    "        data = data.getvalue()\n",
    "        data = 'data:application/pdf;base64,'+ str(b64encode(data), encoding='utf-8')\n",
    "        display(HTML('<object width=\"{}\" height=\"{}\" data=\"{}\"></object>'.format(width, height, data)))\n",
    "        plt.close()\n",
    "\n",
    "@contextmanager\n",
    "def embed_pdf_data(width=640, height=480, title='Image'):\n",
    "    try:\n",
    "        data = BytesIO()\n",
    "        yield data\n",
    "    finally:\n",
    "        data = data.getvalue()\n",
    "\n",
    "        data = 'data:application/pdf;base64,'+ str(b64encode(data), encoding='utf-8')\n",
    "        display(HTML('<object width=\"{}\" height=\"{}\" data=\"{}\"></object>'.format(width, height, data)))\n",
    "        plt.close()\n",
    "        \n",
    "def gradient_func(val):\n",
    "    return '<span style=\"background: linear-gradient(90deg, #d65f5f {0}%, transparent 0%)\">{0:.3f}</span>'.format(val)\n",
    "\n",
    "def display_dataframe(df, filename=None, encoding='utf-8', format='csv', type='button',gradientfunc=False, **kwargs):\n",
    "    #display(df)\n",
    "    #if isinstance(df, pd.DataFrame):\n",
    "    #    display(df.style.set_caption(filename))\n",
    "    #else:\n",
    "    if gradientfunc == False:\n",
    "        display(df.style.set_caption(filename))    \n",
    "    else:\n",
    "        display(df.style.format(gradient_func).set_caption(filename)) \n",
    "    if filename is None:\n",
    "        filename = \"dataframe\"\n",
    "    if format == 'csv':\n",
    "        data = df.to_csv(**kwargs)\n",
    "        mime_type = 'text/csv'\n",
    "        filename = filename + '.csv'\n",
    "    elif format == 'tsv':\n",
    "        data = df.to_csv(**kwargs)\n",
    "        mime_type = 'text/plain'\n",
    "        filename = filename + '.txt'\n",
    "    else:\n",
    "        raise ValueError('unknown file format: {}'.format(format))\n",
    "    data = 'data:{mime_type};base64,'.format(mime_type=mime_type) + str(b64encode(bytes(data, encoding=encoding)), encoding=encoding)\n",
    "    if type == 'hyperlink':\n",
    "        display(HTML('<a href=\" \" download={filename} target=\"_blank\">{filename}</a >'.format(\n",
    "            mime_type=mime_type, filename=filename, data=data)))\n",
    "    elif type == 'button':\n",
    "        button_id = 'button_{}'.format(np.random.randint(1000000000))\n",
    "        display(HTML(r'<input type=\"button\" id=\"{0}\" value=\"Download\">'.format(button_id)))\n",
    "        display(HTML('''<script>\n",
    "    document.getElementById(\"{button_id}\").addEventListener(\"click\", function(event){{\n",
    "        var filename = \"{filename}\";\n",
    "        var data = \"{data}\";\n",
    "        const element = document.createElement('a');\n",
    "        element.setAttribute('href', data);\n",
    "        element.setAttribute('download', filename);\n",
    "        element.style.display = 'none';\n",
    "        document.body.appendChild(element);\n",
    "        element.click();\n",
    "        document.body.removeChild(element);\n",
    "    }});\n",
    "</script>'''.format(button_id=button_id, filename=filename, data=data)))\n",
    "        \n",
    "def log_transfrom(data,small=0.01):\n",
    "    return np.log2(data+small)"
   ]
  },
  {
   "cell_type": "code",
   "execution_count": null,
   "metadata": {},
   "outputs": [],
   "source": [
    "fontsize = 6.5\n",
    "fontscale = 1\n",
    "fontweight =  'normal'\n",
    "fonttitle = {'family':'Arial',\n",
    "                  'weight' : fontweight, \n",
    "                  'size' : fontsize*fontscale}\n",
    "fontlabel = {'family':'Arial',\n",
    "                  'weight' : fontweight, \n",
    "                  'size' : fontsize*fontscale}\n",
    "fontticklabel = {'family':'Arial',\n",
    "                  'weight' : fontweight, \n",
    "                  'size' : fontsize*fontscale}\n",
    "fontlegend = {'family':'Arial',\n",
    "                  'weight' : fontweight, \n",
    "              #'linewidth':0.5,\n",
    "                  'size' : fontsize*fontscale}\n",
    "fontcbarlabel = {'family':'Arial',\n",
    "                 'weight' : fontweight, \n",
    "                 #'Rotation' : 270,\n",
    "                 #'labelpad' : 25,\n",
    "                 'size' : fontsize*fontscale}\n",
    "fontcbarticklabel = {'family':'Arial',#Helvetica\n",
    "                 'weight' : fontweight, \n",
    "                 'size' : (fontsize-1)*fontscale}\n",
    "\n",
    "def std_plot(ax,xlabel=None,ylabel=None,title=None,\n",
    "             legendtitle=None,bbox_to_anchor=None,\n",
    "             labelspacing=0.2,borderpad=0.2,handletextpad=0.2,legendsort=False,markerscale=None,\n",
    "             xlim=None,ylim=None,\n",
    "             xbins=None,ybins=None,\n",
    "             cbar=None,cbarlabel=None,\n",
    "             moveyaxis=False,sns=False,left=True,rotation=None,xticklabel=None,legendscale=True,h=None,l=None,row=1,legend_adj=True,**kwards):\n",
    "        # height = 2 font = 6.5\n",
    "    def autoscale(fig):\n",
    "        if isinstance(fig,matplotlib.figure.Figure):\n",
    "            width,height = fig.get_size_inches()\n",
    "        elif isinstance(fig,matplotlib.axes.Axes):\n",
    "            width,height = fig.figure.get_size_inches()\n",
    "        fontscale = height/(2*row)\n",
    "        if width/fontscale > 8:\n",
    "            warnings.warn(\"Please reset fig's width. When scaling the height to 2 in, the scaled width '%.2f' is large than 8\"%(width/fontscale),UserWarning)\n",
    "        return fontscale\n",
    "    \n",
    "    class fontprop:\n",
    "        def init(self,fonttitle=None,fontlabel=None,fontticklabel=None,fontlegend=None,fontcbarlabel=None,fontcbarticklabel=None):\n",
    "            self.fonttitle = fonttitle\n",
    "            self.fontlabel = fontlabel\n",
    "            self.fontticklabel = fontticklabel\n",
    "            self.fontlegend = fontlegend\n",
    "            self.fontcbarlabel = fontcbarlabel\n",
    "            self.fontcbarticklabel = fontcbarticklabel\n",
    "        def update(self,fontscale):\n",
    "            self.fonttitle['size'] = self.fonttitle['size']*fontscale\n",
    "            self.fontlabel['size'] = self.fontlabel['size']*fontscale\n",
    "            self.fontticklabel['size'] = self.fontticklabel['size']*fontscale\n",
    "            self.fontlegend['size'] = self.fontlegend['size']*fontscale\n",
    "            self.fontcbarlabel['size'] = self.fontcbarlabel['size']*fontscale\n",
    "            self.fontcbarticklabel['size'] = self.fontcbarticklabel['size']*fontscale\n",
    "        def reset(self,fontscale):\n",
    "            self.fonttitle['size'] = self.fonttitle['size']/fontscale\n",
    "            self.fontlabel['size'] = self.fontlabel['size']/fontscale\n",
    "            self.fontticklabel['size'] = self.fontticklabel['size']/fontscale\n",
    "            self.fontlegend['size'] = self.fontlegend['size']/fontscale\n",
    "            self.fontcbarlabel['size'] = self.fontcbarlabel['size']/fontscale\n",
    "            self.fontcbarticklabel['size'] = self.fontcbarticklabel['size']/fontscale\n",
    "    fontscale = autoscale(ax)\n",
    "    font = fontprop()\n",
    "    font.init(fonttitle,fontlabel,fontticklabel,fontlegend,fontcbarlabel,fontcbarticklabel)\n",
    "    font.update(fontscale)\n",
    "    \n",
    "    pyplot.draw()\n",
    "    #plt.figure(linewidth=30.5)\n",
    "    if xlim is not None:  \n",
    "        ax.set(xlim=xlim)\n",
    "    if ylim is not None:\n",
    "        ax.set(ylim=ylim)\n",
    "    #pyplot.draw()\n",
    "    if xbins is not None:\n",
    "        locator = MaxNLocator(nbins=xbins)\n",
    "        locator.set_axis(ax.xaxis)\n",
    "        ax.set_xticks(locator())\n",
    "    if ybins is not None:\n",
    "        locator = MaxNLocator(nbins=ybins)\n",
    "        locator.set_axis(ax.yaxis)\n",
    "        ax.set_yticks(locator())\n",
    "    pyplot.draw()\n",
    "    ax.set_xticks(ax.get_xticks())\n",
    "    ax.set_yticks(ax.get_yticks())\n",
    "    ax.set_xlabel(xlabel,fontdict = font.fontlabel,labelpad=(fontsize-1)*fontscale)\n",
    "    ax.set_ylabel(ylabel,fontdict = font.fontlabel,labelpad=(fontsize-1)*fontscale)\n",
    "    if (rotation is not None) & (xticklabel is not None) :\n",
    "        ax.set_xticklabels(xticklabel,fontticklabel,rotation=rotation)\n",
    "    elif (xticklabel is not None) &(rotation is None):\n",
    "        ax.set_xticklabels(xticklabel,fontticklabel)\n",
    "    elif (xticklabel is None) &(rotation is None):\n",
    "        ax.set_xticklabels(ax.get_xticklabels(),fontticklabel)\n",
    "    elif (rotation is not None) & (xticklabel is None):\n",
    "        ax.set_xticklabels(ax.get_xticklabels(),fontticklabel,rotation=rotation)\n",
    "    ax.set_yticklabels(ax.get_yticklabels(),font.fontticklabel)\n",
    "\n",
    "    if moveyaxis is True:\n",
    "        #fontticklabel \n",
    "        ax.spines['left'].set_position(('data',0))\n",
    "    ax.spines['left'].set_visible(left)\n",
    "    ax.spines['right'].set_visible(not left)\n",
    "    ax.spines['top'].set_visible(False)\n",
    "    ax.spines['right'].set_linewidth(0.5*fontscale)\n",
    "    ax.spines['bottom'].set_linewidth(0.5*fontscale)\n",
    "    ax.spines['left'].set_linewidth(0.5*fontscale)\n",
    "    ax.spines['bottom'].set_color('k')\n",
    "    ax.spines['left'].set_color('k')\n",
    "    ax.spines['right'].set_color('k')\n",
    "    \n",
    "    ax.tick_params(direction='out', pad=2*fontscale,width=0.5*fontscale)\n",
    "    #ax.spines['bottom']._edgecolor=\"#000000\"\n",
    "    #ax.spines['left']._edgecolor=\"#000000\"\n",
    "    if title is not None:\n",
    "        ax.set_title(title,fontdict = font.fonttitle)\n",
    "    if legendscale is True:\n",
    "        if (h is None)&(l is None):\n",
    "            legend = ax.legend(prop=font.fontlegend,\n",
    "                  bbox_to_anchor=bbox_to_anchor,\n",
    "                  labelspacing=labelspacing,borderpad=borderpad,handletextpad=handletextpad,\n",
    "                  edgecolor=\"#000000\",fancybox=False,markerscale=markerscale,**kwards)\n",
    "        else:\n",
    "            legend = ax.legend(h,l,prop=font.fontlegend,\n",
    "                  bbox_to_anchor=bbox_to_anchor,\n",
    "                  labelspacing=labelspacing,borderpad=borderpad,handletextpad=handletextpad,\n",
    "                  edgecolor=\"#000000\",fancybox=False,markerscale=markerscale,**kwards)\n",
    "    if legendtitle is not None:\n",
    "        #if legendloc is None:\n",
    "        #    legendloc=\"best\"\n",
    "        legend = ax.legend(title=legendtitle,prop=font.fontlegend,\n",
    "                      bbox_to_anchor=bbox_to_anchor,\n",
    "                      labelspacing=labelspacing,borderpad=borderpad,handletextpad=handletextpad,\n",
    "                      edgecolor=\"#000000\",fancybox=False,markerscale=markerscale,**kwards)\n",
    "        ax.legend_.get_frame()._linewidth=0.5*fontscale\n",
    "        legend.get_title().set_fontweight('normal')\n",
    "        legend.get_title().set_fontsize(fontscale*fontsize)\n",
    "        if legendsort is True:\n",
    "            # h: handle l:label\n",
    "            h,l = ax.get_legend_handles_labels()\n",
    "            l,h = zip(*sorted(zip(l,h), key=lambda t: int(t[0]))) \n",
    "            legend = ax.legend(h,l,title=legendtitle,prop=font.fontlegend,\n",
    "                      bbox_to_anchor=bbox_to_anchor,\n",
    "                      labelspacing=labelspacing,borderpad=borderpad,handletextpad=handletextpad,\n",
    "                      edgecolor=\"#000000\",fancybox=False,markerscale=markerscale,**kwards)\n",
    "            ax.legend_.get_frame()._linewidth=0.5*fontscale\n",
    "            legend.get_title().set_fontweight('normal')\n",
    "            legend.get_title().set_fontsize(fontscale*fontsize)\n",
    "        if sns is True:\n",
    "            h,l = ax.get_legend_handles_labels()\n",
    "            #l,h = zip(*sorted(zip(l,h), key=lambda t: int(t[0]))) \n",
    "            legend = ax.legend(h[1:],l[1:],title=legendtitle,prop=font.fontlegend,\n",
    "                      bbox_to_anchor=bbox_to_anchor,\n",
    "                      labelspacing=labelspacing,borderpad=borderpad,handletextpad=handletextpad,\n",
    "                      edgecolor=\"#000000\",fancybox=False,markerscale=markerscale,**kwards)\n",
    "            ax.legend_.get_frame()._linewidth=0.5*fontscale\n",
    "            legend.get_title().set_fontweight('normal')\n",
    "            legend.get_title().set_fontsize(fontscale*fontsize)\n",
    "    elif legend_adj is True:\n",
    "        legend = ax.legend(handles=h,labels=l,title=legendtitle,prop=font.fontlegend,\n",
    "                      bbox_to_anchor=bbox_to_anchor,\n",
    "                      labelspacing=labelspacing,borderpad=borderpad,handletextpad=handletextpad,\n",
    "                      edgecolor=\"#000000\",fancybox=False,markerscale=markerscale,**kwards)\n",
    "        ax.legend_.get_frame()._linewidth=0.5*fontscale\n",
    "        legend.get_title().set_fontweight('normal')\n",
    "        legend.get_title().set_fontsize(fontscale*fontsize)\n",
    "\n",
    "    if cbar is not None:\n",
    "        #locator, formatter = cbar._get_ticker_locator_formatter()\n",
    "        #ticks, ticklabels, offset_string = cbar._ticker(locator, formatter)\n",
    "        #cbar.ax.spines['top'].set_visible(False)\n",
    "        #cbar.ax.spines['right'].set_visible(False)\n",
    "        #cbar.ax.spines['bottom'].set_visible(False)\n",
    "        #cbar.ax.spines['left'].set_visible(False)\n",
    "        cbar.ax.tick_params(direction='out', pad=3*fontscale,width=0*fontscale,length=0*fontscale)\n",
    "        cbar.set_label(cbarlabel,fontdict = font.fontcbarlabel,Rotation=270,labelpad=fontscale*(fontsize+1))\n",
    "        cbar.ax.set_yticks(cbar.ax.get_yticks())\n",
    "        cbar.ax.set_yticklabels(cbar.ax.get_yticklabels(),font.fontcbarticklabel)\n",
    "    font.reset(fontscale)\n",
    "    return ax"
   ]
  },
  {
   "cell_type": "code",
   "execution_count": null,
   "metadata": {},
   "outputs": [],
   "source": [
    "#setup figure template\n",
    "figure_template_path = 'bin'\n",
    "if figure_template_path not in sys.path:\n",
    "    sys.path.append(figure_template_path)\n",
    "from importlib import reload\n",
    "import figure_template\n",
    "#force reload of the module\n",
    "reload(figure_template)\n",
    "from figure_template import display_dataframe, embed_pdf_figure, embed_pdf_pages,std_plot"
   ]
  },
  {
   "cell_type": "markdown",
   "metadata": {},
   "source": [
    "# Python"
   ]
  },
  {
   "cell_type": "code",
   "execution_count": null,
   "metadata": {},
   "outputs": [],
   "source": [
    "# use a tab\n",
    "for i in range(3):\n",
    "    print(i)\n",
    "# use 2 spaces\n",
    "for i in range(3):\n",
    "  print(i)\n",
    "# use 4 spaces\n",
    "for i in range(3):\n",
    "    print(i)"
   ]
  },
  {
   "cell_type": "code",
   "execution_count": null,
   "metadata": {},
   "outputs": [],
   "source": [
    "print(\"The \\n makes a new line\")\n",
    "print(\"The \\t is a tab\")\n",
    "print('I\\'m going to the movies')"
   ]
  },
  {
   "cell_type": "code",
   "execution_count": null,
   "metadata": {},
   "outputs": [],
   "source": [
    "firstVariable = 'Hello World!'\n",
    "print(firstVariable)\n",
    "print(firstVariable.lower())\n",
    "print(firstVariable.upper())\n",
    "print(firstVariable.title())"
   ]
  },
  {
   "cell_type": "code",
   "execution_count": null,
   "metadata": {},
   "outputs": [],
   "source": [
    "print (1+1)\n",
    "print (130-2.0)\n",
    "print (126/3)\n",
    "print (2*3)\n",
    "print (2**3)\n",
    "print (10%3)"
   ]
  },
  {
   "cell_type": "code",
   "execution_count": null,
   "metadata": {},
   "outputs": [],
   "source": [
    "# Defining a list\n",
    "z = [3, 7, 4, 2]"
   ]
  },
  {
   "cell_type": "code",
   "execution_count": null,
   "metadata": {},
   "outputs": [],
   "source": [
    "print (z[0])\n",
    "\n",
    "print (z[-1])\n",
    "\n",
    "print (z[0:2])"
   ]
  },
  {
   "cell_type": "code",
   "execution_count": null,
   "metadata": {},
   "outputs": [],
   "source": [
    "x = [3, 7, 2, 11, 8, 10, 4]\n",
    "y = ['Steve', 'Rachel', 'Michael', 'Adam', 'Monica', 'Jessica', 'Lester']\n",
    "x.append(3)\n",
    "y.append('James')\n",
    "print(x)\n",
    "print(y)"
   ]
  },
  {
   "cell_type": "markdown",
   "metadata": {},
   "source": [
    "## numpy and pandas"
   ]
  },
  {
   "cell_type": "markdown",
   "metadata": {},
   "source": [
    "### numpy\n",
    "http://cs231n.github.io/python-numpy-tutorial/"
   ]
  },
  {
   "cell_type": "code",
   "execution_count": null,
   "metadata": {},
   "outputs": [],
   "source": [
    "import numpy as np\n",
    "\n",
    "a = np.array([1, 2, 3])   # Create a rank 1 array\n",
    "print(type(a))            # Prints \"<class 'numpy.ndarray'>\"\n",
    "print(a.shape)            # Prints \"(3,)\"\n",
    "print(a[0], a[1], a[2])   # Prints \"1 2 3\"\n",
    "a[0] = 5                  # Change an element of the array\n",
    "print(a)                  # Prints \"[5, 2, 3]\"\n",
    "\n",
    "b = np.array([[1,2,3],[4,5,6]])    # Create a rank 2 array\n",
    "print(b.shape)                     # Prints \"(2, 3)\"\n",
    "print(b[0, 0], b[0, 1], b[1, 0])   # Prints \"1 2 4\""
   ]
  },
  {
   "cell_type": "code",
   "execution_count": null,
   "metadata": {},
   "outputs": [],
   "source": [
    "a = np.zeros((2,2))   # Create an array of all zeros\n",
    "print(a)              # Prints \"[[ 0.  0.]\n",
    "                      #          [ 0.  0.]]\"\n",
    "\n",
    "b = np.ones((1,2))    # Create an array of all ones\n",
    "print(b)              # Prints \"[[ 1.  1.]]\"\n",
    "\n",
    "c = np.full((2,2), 7)  # Create a constant array\n",
    "print(c)               # Prints \"[[ 7.  7.]\n",
    "                       #          [ 7.  7.]]\"\n",
    "\n",
    "d = np.eye(2)         # Create a 2x2 identity matrix\n",
    "print(d)              # Prints \"[[ 1.  0.]\n",
    "                      #          [ 0.  1.]]\"\n",
    "\n",
    "e = np.random.random((2,2))  # Create an array filled with random values\n",
    "print(e)                     # Might print \"[[ 0.91940167  0.08143941]\n",
    "                             #               [ 0.68744134  0.87236687]]\""
   ]
  },
  {
   "cell_type": "code",
   "execution_count": null,
   "metadata": {},
   "outputs": [],
   "source": [
    "np.eye(15)"
   ]
  },
  {
   "cell_type": "code",
   "execution_count": null,
   "metadata": {},
   "outputs": [],
   "source": [
    "imshow(np.eye(15),cmap=cm.gray_r)"
   ]
  },
  {
   "cell_type": "code",
   "execution_count": null,
   "metadata": {},
   "outputs": [],
   "source": [
    "np.random.random(100).reshape(10,10).shape"
   ]
  },
  {
   "cell_type": "code",
   "execution_count": null,
   "metadata": {},
   "outputs": [],
   "source": [
    "imshow(np.random.random(100).reshape(10,10))"
   ]
  },
  {
   "cell_type": "markdown",
   "metadata": {},
   "source": [
    "### Pandas\n",
    "https://github.com/adeshpande3/Pandas-Tutorial/blob/master/Pandas%20Tutorial.ipynb"
   ]
  },
  {
   "cell_type": "code",
   "execution_count": null,
   "metadata": {},
   "outputs": [],
   "source": [
    "df = pd.read_csv('data/RegularSeasonCompactResults.csv')"
   ]
  },
  {
   "cell_type": "code",
   "execution_count": null,
   "metadata": {
    "scrolled": true
   },
   "outputs": [],
   "source": [
    "df.shape"
   ]
  },
  {
   "cell_type": "code",
   "execution_count": null,
   "metadata": {},
   "outputs": [],
   "source": [
    "df.head(10)"
   ]
  },
  {
   "cell_type": "code",
   "execution_count": null,
   "metadata": {},
   "outputs": [],
   "source": [
    "df.tail(3)"
   ]
  },
  {
   "cell_type": "code",
   "execution_count": null,
   "metadata": {},
   "outputs": [],
   "source": [
    "df.shape"
   ]
  },
  {
   "cell_type": "code",
   "execution_count": null,
   "metadata": {},
   "outputs": [],
   "source": [
    "df.describe()"
   ]
  },
  {
   "cell_type": "code",
   "execution_count": null,
   "metadata": {
    "scrolled": true
   },
   "outputs": [],
   "source": [
    "df['Wscore']"
   ]
  },
  {
   "cell_type": "code",
   "execution_count": null,
   "metadata": {},
   "outputs": [],
   "source": [
    "df['Wscore'].max(), df['Wscore'].mean(), df['Wscore'].argmax()"
   ]
  },
  {
   "cell_type": "code",
   "execution_count": null,
   "metadata": {
    "scrolled": true
   },
   "outputs": [],
   "source": [
    "df['Season'].value_counts()"
   ]
  },
  {
   "cell_type": "code",
   "execution_count": null,
   "metadata": {},
   "outputs": [],
   "source": [
    "np.unique(df['Season'],return_counts=True)"
   ]
  },
  {
   "cell_type": "code",
   "execution_count": null,
   "metadata": {},
   "outputs": [],
   "source": [
    "df['Wscore'].argmax()"
   ]
  },
  {
   "cell_type": "code",
   "execution_count": null,
   "metadata": {},
   "outputs": [],
   "source": [
    "df.iloc[df['Wscore'].argmax(),:3]"
   ]
  },
  {
   "cell_type": "code",
   "execution_count": null,
   "metadata": {},
   "outputs": [],
   "source": [
    "df.loc[np.where(df['Wscore']==186)[0], 'Lscore']"
   ]
  },
  {
   "cell_type": "code",
   "execution_count": null,
   "metadata": {},
   "outputs": [],
   "source": [
    "df.sort_values('Lscore').head()"
   ]
  },
  {
   "cell_type": "code",
   "execution_count": null,
   "metadata": {},
   "outputs": [],
   "source": [
    "df[(df['Wscore'] > 150) & (df['Lscore'] < 100)]"
   ]
  },
  {
   "cell_type": "code",
   "execution_count": null,
   "metadata": {},
   "outputs": [],
   "source": [
    "df.groupby('Wteam')['Wscore'].mean().head()"
   ]
  },
  {
   "cell_type": "code",
   "execution_count": null,
   "metadata": {},
   "outputs": [],
   "source": [
    "df.groupby('Wteam')['Wloc'].value_counts().head(9)"
   ]
  },
  {
   "cell_type": "code",
   "execution_count": null,
   "metadata": {},
   "outputs": [],
   "source": [
    "df.values"
   ]
  },
  {
   "cell_type": "code",
   "execution_count": null,
   "metadata": {},
   "outputs": [],
   "source": [
    "ax = df['Wscore'].plot.hist(bins=20)\n",
    "ax.set_xlabel('Points for Winning Team')"
   ]
  },
  {
   "cell_type": "markdown",
   "metadata": {},
   "source": [
    "#### qgrid filtering"
   ]
  },
  {
   "cell_type": "code",
   "execution_count": null,
   "metadata": {
    "scrolled": true
   },
   "outputs": [],
   "source": [
    "!pip install qgrid"
   ]
  },
  {
   "cell_type": "code",
   "execution_count": null,
   "metadata": {},
   "outputs": [],
   "source": [
    "import numpy as np\n",
    "import pandas as pd\n",
    "import qgrid\n",
    "randn = np.random.randn\n",
    "df_types = pd.DataFrame({\n",
    "    'A' : 1.,\n",
    "    'B' : pd.Series(['2013-01-01', '2013-01-02', '2013-01-03', '2013-01-04',\n",
    "               '2013-01-05', '2013-01-06', '2013-01-07', '2013-01-08', '2013-01-09'],index=list(range(9)),dtype='datetime64[ns]'),\n",
    "    'C' : pd.Series(randn(9),index=list(range(9)),dtype='float32'),\n",
    "    'D' : np.array([3] * 9,dtype='int32'),\n",
    "    'E' : pd.Categorical([\"washington\", \"adams\", \"washington\", \"madison\", \"lincoln\",\"jefferson\", \"hamilton\", \"roosevelt\", \"kennedy\"]),\n",
    "    'F' : [\"foo\", \"bar\", \"buzz\", \"bippity\",\"boppity\", \"foo\", \"foo\", \"bar\", \"zoo\"] })\n",
    "df_types['G'] = df_types['F'] == 'foo'\n",
    "qgrid_widget = qgrid.show_grid(df_types, show_toolbar=True)\n",
    "qgrid_widget"
   ]
  },
  {
   "cell_type": "code",
   "execution_count": null,
   "metadata": {},
   "outputs": [],
   "source": [
    "qgrid_widget.get_changed_df()"
   ]
  },
  {
   "cell_type": "markdown",
   "metadata": {},
   "source": [
    "### Matplotlib"
   ]
  },
  {
   "cell_type": "code",
   "execution_count": null,
   "metadata": {},
   "outputs": [],
   "source": [
    "x"
   ]
  },
  {
   "cell_type": "code",
   "execution_count": null,
   "metadata": {},
   "outputs": [],
   "source": [
    "np.sin(x)"
   ]
  },
  {
   "cell_type": "code",
   "execution_count": null,
   "metadata": {},
   "outputs": [],
   "source": [
    "x = np.linspace(0, 2 * np.pi, 50)\n",
    "plt.plot(x, np.sin(x))"
   ]
  },
  {
   "cell_type": "code",
   "execution_count": null,
   "metadata": {},
   "outputs": [],
   "source": [
    "#use ax and figure\n",
    "fig,ax=plt.subplots(figsize=(8,3))\n",
    "\n",
    "x = np.linspace(0, 2 * np.pi, 50)\n",
    "ax.plot(x, np.sin(x))"
   ]
  },
  {
   "cell_type": "code",
   "execution_count": null,
   "metadata": {},
   "outputs": [],
   "source": [
    "#use ax and figure\n",
    "fig,ax=plt.subplots(2,3,figsize=(18,6))\n",
    "\n",
    "for i in range(2):\n",
    "    for j in range(3):\n",
    "        x = np.linspace(0, 2 * np.pi * (i*3+j+1), 50)\n",
    "        ax[i,j].plot(x, np.sin(x)) "
   ]
  },
  {
   "cell_type": "code",
   "execution_count": null,
   "metadata": {},
   "outputs": [],
   "source": [
    "fig,ax=plt.subplots(figsize=(4,4))\n",
    "x = np.random.rand(100)\n",
    "y = np.random.rand(100)\n",
    "size = np.random.rand(100) * 50\n",
    "colour = np.random.rand(100)\n",
    "scatter = ax.scatter(x, y, size, colour)\n",
    "fig.colorbar(scatter)"
   ]
  },
  {
   "cell_type": "code",
   "execution_count": null,
   "metadata": {},
   "outputs": [],
   "source": [
    "fig,ax=plt.subplots(figsize=(6,3))\n",
    "x = np.random.randn(1000)\n",
    "ax.hist(x, 50)"
   ]
  },
  {
   "cell_type": "markdown",
   "metadata": {},
   "source": [
    "### Seaborn\n",
    "use boxplot as an example\n",
    "https://seaborn.pydata.org/generated/seaborn.boxplot.html"
   ]
  },
  {
   "cell_type": "code",
   "execution_count": null,
   "metadata": {},
   "outputs": [],
   "source": [
    "import numpy as np\n",
    "import pandas as pd\n",
    "np.random.seed(44)\n",
    "import matplotlib.pyplot as plt\n",
    "import seaborn as sns\n",
    "%matplotlib inline\n",
    "import warnings\n",
    "warnings.filterwarnings(\"ignore\")\n",
    "\n",
    "# Let us also get tableau colors we defined earlier:\n",
    "tableau_20 = [(31, 119, 180), (174, 199, 232), (255, 127, 14), (255, 187, 120),\n",
    "         (44, 160, 44), (152, 223, 138), (214, 39, 40), (255, 152, 150),\n",
    "         (148, 103, 189), (197, 176, 213), (140, 86, 75), (196, 156, 148),\n",
    "         (227, 119, 194), (247, 182, 210), (127, 127, 127), (199, 199, 199),\n",
    "         (188, 189, 34), (219, 219, 141), (23, 190, 207), (158, 218, 229)]\n",
    "\n",
    "# Scaling above RGB values to [0, 1] range, which is Matplotlib acceptable format:\n",
    "for i in range(len(tableau_20)):\n",
    "    r, g, b = tableau_20[i]\n",
    "    tableau_20[i] = (r / 255., g / 255., b / 255.)"
   ]
  },
  {
   "cell_type": "code",
   "execution_count": null,
   "metadata": {
    "scrolled": true
   },
   "outputs": [],
   "source": [
    "# Loading built-in Tips dataset:\n",
    "tips = sns.load_dataset(\"tips\")\n",
    "tips"
   ]
  },
  {
   "cell_type": "code",
   "execution_count": null,
   "metadata": {},
   "outputs": [],
   "source": [
    "# Plotting basic Box Plot:\n",
    "sns.boxplot(x=\"day\", y=\"total_bill\", data=tips)"
   ]
  },
  {
   "cell_type": "code",
   "execution_count": null,
   "metadata": {},
   "outputs": [],
   "source": [
    "sns.boxplot(x=\"day\", y=\"total_bill\", hue=\"smoker\", data=tips, palette=\"coolwarm\")"
   ]
  },
  {
   "cell_type": "code",
   "execution_count": null,
   "metadata": {},
   "outputs": [],
   "source": [
    "sns.boxplot(x=\"day\", y=\"total_bill\", data=tips)\n",
    "sns.swarmplot(x=\"day\", y=\"total_bill\", data=tips, color=tableau_20[7])"
   ]
  },
  {
   "cell_type": "code",
   "execution_count": null,
   "metadata": {},
   "outputs": [],
   "source": [
    "sns.violinplot(x=\"day\", y=\"total_bill\", data=tips)\n",
    "sns.swarmplot(x=\"day\", y=\"total_bill\", data=tips, color=tableau_20[7])"
   ]
  },
  {
   "cell_type": "markdown",
   "metadata": {},
   "source": [
    "# interactive plotting\n",
    "It is useful to use ipywidgets to tune the parameters to get a perfect plot\n",
    "https://ipywidgets.readthedocs.io/en/stable/examples/Using%20Interact.html#Basic-interact"
   ]
  },
  {
   "cell_type": "code",
   "execution_count": null,
   "metadata": {},
   "outputs": [],
   "source": [
    "from ipywidgets import interact, interactive, fixed, interact_manual\n",
    "import ipywidgets as widgets"
   ]
  },
  {
   "cell_type": "code",
   "execution_count": null,
   "metadata": {},
   "outputs": [],
   "source": [
    "def f(x):\n",
    "    return x"
   ]
  },
  {
   "cell_type": "code",
   "execution_count": null,
   "metadata": {},
   "outputs": [],
   "source": [
    "interact(f, x=10)"
   ]
  },
  {
   "cell_type": "code",
   "execution_count": null,
   "metadata": {},
   "outputs": [],
   "source": [
    "interact(f, x=True)"
   ]
  },
  {
   "cell_type": "code",
   "execution_count": null,
   "metadata": {},
   "outputs": [],
   "source": [
    "interact(f, x='Hi there!')"
   ]
  },
  {
   "cell_type": "markdown",
   "metadata": {},
   "source": [
    "fixed arguments"
   ]
  },
  {
   "cell_type": "code",
   "execution_count": null,
   "metadata": {},
   "outputs": [],
   "source": [
    "def h(p, q):\n",
    "    return (p, q)"
   ]
  },
  {
   "cell_type": "code",
   "execution_count": null,
   "metadata": {},
   "outputs": [],
   "source": [
    "interact(h, p=5, q=fixed(20))"
   ]
  },
  {
   "cell_type": "markdown",
   "metadata": {},
   "source": [
    "Slider"
   ]
  },
  {
   "cell_type": "code",
   "execution_count": null,
   "metadata": {},
   "outputs": [],
   "source": [
    "interact(f, x=widgets.IntSlider(min=-10,max=30,step=1,value=10))"
   ]
  },
  {
   "cell_type": "code",
   "execution_count": null,
   "metadata": {},
   "outputs": [],
   "source": [
    "interact(f, x=(-10,10,1))"
   ]
  },
  {
   "cell_type": "code",
   "execution_count": null,
   "metadata": {},
   "outputs": [],
   "source": [
    "widgets.FloatSlider(\n",
    "    value=7.5,\n",
    "    min=0,\n",
    "    max=10.0,\n",
    "    step=0.1,\n",
    "    description='Test:',\n",
    "    disabled=False,\n",
    "    continuous_update=False,\n",
    "    orientation='vertical',\n",
    "    readout=True,\n",
    "    readout_format='.1f',\n",
    ")"
   ]
  },
  {
   "cell_type": "code",
   "execution_count": null,
   "metadata": {},
   "outputs": [],
   "source": [
    "widgets.IntProgress(\n",
    "    value=9,\n",
    "    min=0,\n",
    "    max=10,\n",
    "    step=1,\n",
    "    description='Loading:',\n",
    "    bar_style='success', # 'success', 'info', 'warning', 'danger' or ''\n",
    "    orientation='horizontal'\n",
    ")"
   ]
  },
  {
   "cell_type": "code",
   "execution_count": null,
   "metadata": {},
   "outputs": [],
   "source": [
    "widgets.BoundedFloatText(\n",
    "    value=7.5,\n",
    "    min=0,\n",
    "    max=10.0,\n",
    "    step=0.1,\n",
    "    description='Text:',\n",
    "    disabled=False\n",
    ")"
   ]
  },
  {
   "cell_type": "code",
   "execution_count": null,
   "metadata": {},
   "outputs": [],
   "source": [
    "#Dropdown\n",
    "widgets.Dropdown(\n",
    "    options=['1', '2', '3'],\n",
    "    value='2',\n",
    "    description='Number:',\n",
    "    disabled=False,\n",
    ")"
   ]
  },
  {
   "cell_type": "code",
   "execution_count": null,
   "metadata": {},
   "outputs": [],
   "source": [
    "widgets.RadioButtons(\n",
    "    options=['holiday', 'work', 'study'],\n",
    "#     value='pineapple',\n",
    "    description='Pizza topping:',\n",
    "    disabled=False\n",
    ")"
   ]
  },
  {
   "cell_type": "code",
   "execution_count": null,
   "metadata": {},
   "outputs": [],
   "source": [
    "widgets.Select(\n",
    "    options=['Linux', 'Windows', 'OSX'],\n",
    "    value='OSX',\n",
    "    # rows=10,\n",
    "    description='OS:',\n",
    "    disabled=False\n",
    ")"
   ]
  },
  {
   "cell_type": "code",
   "execution_count": null,
   "metadata": {},
   "outputs": [],
   "source": [
    "widgets.SelectMultiple(\n",
    "    options=['Ubuntu', 'CentOS','RedHat','Raspberry','Windows10', 'Mac OS Majove'],\n",
    "    description='OS:',\n",
    ")"
   ]
  },
  {
   "cell_type": "code",
   "execution_count": null,
   "metadata": {},
   "outputs": [],
   "source": [
    "import datetime\n",
    "dates = [datetime.date(2015,i,1) for i in range(1,13)]\n",
    "options = [(i.strftime('%b'), i) for i in dates]\n",
    "widgets.SelectionRangeSlider(\n",
    "    options=options,\n",
    "    index=(0,11),\n",
    "    description='Months (2015)',\n",
    "    disabled=False\n",
    ")"
   ]
  },
  {
   "cell_type": "code",
   "execution_count": null,
   "metadata": {},
   "outputs": [],
   "source": [
    "play = widgets.Play(\n",
    "#     interval=10,\n",
    "    value=50,\n",
    "    min=0,\n",
    "    max=100,\n",
    "    step=1,\n",
    "    description=\"Press play\",\n",
    "    disabled=False\n",
    ")\n",
    "slider = widgets.IntSlider()\n",
    "widgets.jslink((play, 'value'), (slider, 'value'))\n",
    "widgets.HBox([play, slider])"
   ]
  },
  {
   "cell_type": "code",
   "execution_count": null,
   "metadata": {},
   "outputs": [],
   "source": [
    "widgets.DatePicker(\n",
    "    description='Pick a Date',\n",
    "    disabled=False\n",
    ")"
   ]
  },
  {
   "cell_type": "code",
   "execution_count": null,
   "metadata": {},
   "outputs": [],
   "source": [
    "widgets.ColorPicker(\n",
    "    concise=False,\n",
    "    description='Pick a color',\n",
    "    value='blue',\n",
    "    disabled=False\n",
    ")"
   ]
  },
  {
   "cell_type": "markdown",
   "metadata": {},
   "source": [
    "**based on the above things, you can create some fancy plotting...**"
   ]
  },
  {
   "cell_type": "code",
   "execution_count": null,
   "metadata": {},
   "outputs": [],
   "source": [
    "from mpl_toolkits.mplot3d import Axes3D\n",
    "from mpl_toolkits.mplot3d.axes3d import *"
   ]
  },
  {
   "cell_type": "code",
   "execution_count": null,
   "metadata": {},
   "outputs": [],
   "source": [
    "Xs = np.repeat(np.arange(0,100),100).reshape(-1,100).T.ravel()\n",
    "Ys = np.repeat(np.arange(0,100),100).ravel()\n",
    "Zs = np.random.random(10000).ravel()\n",
    "\n",
    "def plot_3d_grid_surface(width,height,azim,elev,contextind,styind,featureind,savefig):\n",
    "    fig = plt.figure(figsize=(width,height))\n",
    "    p = 0.05\n",
    "    f = -0.01\n",
    "\n",
    "    def get_data(p):\n",
    "        X = np.arange(-5, 5, 0.25)\n",
    "        Y = np.arange(-5, 5, 0.25)\n",
    "        X, Y = np.meshgrid(X, Y)\n",
    "        R = np.sqrt(X**2 + Y**2)\n",
    "        Z = np.sin(R)\n",
    "\n",
    "        return X,Y,Z\n",
    "\n",
    "    x, y, z = get_data(p)\n",
    "\n",
    "    x_min, x_max = np.min(x), np.max(x)\n",
    "    y_min, y_max = np.min(y), np.max(y)\n",
    "    z_min, z_max = np.min(z), np.max(z)\n",
    "\n",
    "    fig= plt.figure(figsize=(15, 10))\n",
    "\n",
    "\n",
    "    ax = plt.axes(projection='3d')\n",
    "    ax.tick_params(labelsize=8)\n",
    "    #ax.view_init(azim=azim, elev=elev)\n",
    "    #ax.plot_surface(x, y, z, rstride=10, cstride=10, alpha=1)\n",
    "    ax.contourf(x, y, z, zdir='z', offset=-2, cmap=cm.coolwarm)\n",
    "\n",
    "    surf = ax.plot_surface(x,y,z, cmap=cm.coolwarm,\n",
    "                           linewidth=0, antialiased=False)\n",
    "\n",
    "\n",
    "\n",
    "    ax.zaxis.set_major_locator(LinearLocator(10))\n",
    "    ax.zaxis.set_major_formatter(FormatStrFormatter('%.02f'))\n",
    "    fig.colorbar(surf, shrink=0.5, aspect=5)\n",
    "\n",
    "\n",
    "    ax.set_xlabel('X')\n",
    "    ax.set_xlim(x_min, x_max)\n",
    "    ax.set_ylabel('Y')\n",
    "    ax.set_ylim(y_min, y_max)\n",
    "    ax.set_zlabel('Z')\n",
    "    ax.set_zlim(-2, 1.01)\n",
    "    \n",
    "    ax.view_init(azim=azim,elev=elev)\n",
    "\n",
    "interact(plot_3d_grid_surface,\n",
    "    contextind=FloatSlider(min=0,max=3,step=1,value=2),\n",
    "         styind=FloatSlider(min=0,max=2,step=1),\n",
    "    width =FloatSlider(min=4,max=40,step=1,value=25),\n",
    "         featureind=IntSlider(min=0,max=30,step=1,value=0),\n",
    "    height= FloatSlider(min=4,max=30,step=1,value=16),\n",
    "    azim= FloatSlider(min=0,max=180,step=2,value=45,continuous_update=False),\n",
    "         savefig= RadioButtons(options=['show','save']),\n",
    "    elev= FloatSlider(min=0,max=180,step=1,value=32,continuous_update=False,))"
   ]
  },
  {
   "cell_type": "markdown",
   "metadata": {},
   "source": [
    "# display dataframe, std_plot, pdf_figure..."
   ]
  },
  {
   "cell_type": "code",
   "execution_count": null,
   "metadata": {},
   "outputs": [],
   "source": [
    "import numpy as np\n",
    "import pandas as pd\n",
    "import qgrid\n",
    "randn = np.random.randn\n",
    "df_types = pd.DataFrame({\n",
    "    'A' : 1.,\n",
    "    'B' : pd.Series(['2013-01-01', '2013-01-02', '2013-01-03', '2013-01-04',\n",
    "               '2013-01-05', '2013-01-06', '2013-01-07', '2013-01-08', '2013-01-09'],index=list(range(9)),dtype='datetime64[ns]'),\n",
    "    'C' : pd.Series(randn(9),index=list(range(9)),dtype='float32'),\n",
    "    'D' : np.array([3] * 9,dtype='int32'),\n",
    "    'E' : pd.Categorical([\"washington\", \"adams\", \"washington\", \"madison\", \"lincoln\",\"jefferson\", \"hamilton\", \"roosevelt\", \"kennedy\"]),\n",
    "    'F' : [\"foo\", \"bar\", \"buzz\", \"bippity\",\"boppity\", \"foo\", \"foo\", \"bar\", \"zoo\"] })\n",
    "df_types['G'] = df_types['F'] == 'foo'\n",
    "qgrid_widget = qgrid.show_grid(df_types, show_toolbar=True)\n",
    "qgrid_widget"
   ]
  },
  {
   "cell_type": "code",
   "execution_count": null,
   "metadata": {},
   "outputs": [],
   "source": [
    "qgrid_widget.get_changed_df()"
   ]
  },
  {
   "cell_type": "code",
   "execution_count": null,
   "metadata": {},
   "outputs": [],
   "source": [
    "display_dataframe(qgrid_widget.get_changed_df(),filename='qgrid_widget_data')"
   ]
  },
  {
   "cell_type": "code",
   "execution_count": null,
   "metadata": {},
   "outputs": [],
   "source": [
    "tips  = sns.load_dataset('tips')\n",
    "sns.boxplot(x=\"day\", y=\"total_bill\", hue=\"smoker\", data=tips, palette=\"coolwarm\")"
   ]
  },
  {
   "cell_type": "markdown",
   "metadata": {},
   "source": [
    "```python\n",
    "ax,xlabel,ylabel,title=None,\n",
    "legendtitle=None,bbox_to_anchor=None,\n",
    "labelspacing=1.2,borderpad=1,handletextpad=0.5,legendsort=False,markerscale=None,\n",
    "xlim=None,ylim=None,\n",
    "xbins=None,ybins=None,\n",
    "cbar=None,cbarlabel=None,\n",
    "moveyaxis=False,sns=False,left=True,rotation=None,xticklabel=None\n",
    "```"
   ]
  },
  {
   "cell_type": "code",
   "execution_count": null,
   "metadata": {},
   "outputs": [],
   "source": [
    "fig,ax=plt.subplots(figsize=(6,4))\n",
    "sns.boxplot(x=\"day\", y=\"total_bill\", hue=\"smoker\", data=tips, palette=\"coolwarm\",\n",
    "           ax=ax)\n",
    "ax = std_plot(ax=ax,xlabel='day',ylabel='total_bill',title='boxplot',\n",
    "              ylim=[0,80])\n",
    "fig.tight_layout()\n",
    "#embed_pdf_figure()"
   ]
  },
  {
   "cell_type": "markdown",
   "metadata": {},
   "source": [
    "# Basic plot\n",
    "Now we try to use the following commands to get summary plot of exSEEK modules:\n",
    "- mapping\n",
    "- count matrix\n",
    "- differetial expression"
   ]
  },
  {
   "cell_type": "code",
   "execution_count": null,
   "metadata": {},
   "outputs": [],
   "source": [
    "def interactive_config_settings(dataset,sequencing_type,classifier,value_change,example_cancer,reads_preprocess,stage_info,saveformat):\n",
    "    if sequencing_type == 'short':\n",
    "        exp_mx_name = 'mirna_and_domains'\n",
    "    elif sequencing_type =='long':\n",
    "        exp_mx_name = 'featurecounts'\n",
    "    elif sequencing_type =='domain_only':\n",
    "        exp_mx_name = 'domains_long'\n",
    "    elif sequencing_type =='transcript':\n",
    "        exp_mx_name = 'transcript'\n",
    "    elif sequencing_type =='transcript_small':\n",
    "        exp_mx_name = 'transcript_small'\n",
    "    elif sequencing_type =='transcript_long_bg':\n",
    "        exp_mx_name = 'transcript_long_bg'\n",
    "    return dataset,sequencing_type,classifier,value_change,exp_mx_name,example_cancer,reads_preprocess,stage_info,saveformat\n",
    "\n",
    "widget =interactive(interactive_config_settings,\n",
    "           dataset= ['lulab_hcc','scirep','exorbase','exosome_small','pico_3v3'],\n",
    "           sequencing_type=['short','long','domain_only','transcript','transcript_small','transcript_long_bg'],\n",
    "           classifier = ['random_forest','logistic_regression','linear_svm','decision_tree','logistic_regression_l1'],\n",
    "           value_change = ['any','up','down'],\n",
    "        example_cancer=['Normal-CRC','Normal-PAAD','Normal-PRAD','Normal-HCC'],\n",
    "                   reads_preprocess=[True,False],\n",
    "                   stage_info = ['No Stage','With Stage'],\n",
    "                 saveformat=['.pdf','.eps'])  # if start from preprocessing\n",
    "display(widget)\n"
   ]
  },
  {
   "cell_type": "code",
   "execution_count": null,
   "metadata": {},
   "outputs": [],
   "source": [
    "dataset,sequencing_type,classifier_use,value_change,exp_mx_name,example_cancer,reads_preprocess,stage_info,saveformat = widget.result\n",
    "dataset,sequencing_type,classifier_use,value_change,exp_mx_name,example_cancer,reads_preprocess,stage_info,saveformat"
   ]
  },
  {
   "cell_type": "code",
   "execution_count": null,
   "metadata": {},
   "outputs": [],
   "source": [
    "file_counts = 'output/'+dataset+'/summary/read_counts.txt'\n",
    "file_length_path = 'output/'+dataset+'/stats/mapped_read_length_by_sample/'\n",
    "file_length_path_insert = 'output/'+dataset+'/stats/mapped_insert_size_by_sample/'\n",
    "save_path = 'output/'+dataset+'/plots/'\n",
    "\n",
    "if not os.path.exists(save_path ):\n",
    "    os.makedirs(save_path )\n",
    "    "
   ]
  },
  {
   "cell_type": "code",
   "execution_count": null,
   "metadata": {},
   "outputs": [],
   "source": [
    "#Get table\n",
    "def get_counts_ratio_table(file_counts,sequencing_type='short'):\n",
    "    df = pd.read_table(file_counts, index_col=0)\n",
    "    if reads_preprocess == True:\n",
    "        if sequencing_type == 'short':\n",
    "            rna_types = [s.split('.')[0] for s in df.index.tolist() if s.endswith('.mapped')]\n",
    "            rna_types = 'rRNA,miRNA,piRNA,Y_RNA,srpRNA,tRNA,snRNA,snoRNA,lncRNA,mRNA,tucpRNA,intron,promoter,enhancer,repeats,circRNA,other'.split(',')\n",
    "            mapped_ratio = {}\n",
    "            mapped_count = {}\n",
    "            for sample_id in df.columns.tolist():\n",
    "                mapped_ratio[sample_id] = {}\n",
    "                mapped_count[sample_id] = {}\n",
    "                clean_counts = float(df.loc['clean.unmapped', sample_id])\n",
    "                for rna_type in rna_types:\n",
    "                    mapped_ratio[sample_id][rna_type] = df.loc[rna_type + '.mapped', sample_id]/(\n",
    "                        clean_counts - df.loc['other.unmapped', sample_id])\n",
    "                    mapped_count[sample_id][rna_type] = df.loc[rna_type + '.mapped', sample_id]\n",
    "                for region in ('promoter', 'enhancer', 'intron','repeats','circRNA'):\n",
    "                    mapped_ratio[sample_id]['other'] -= mapped_ratio[sample_id][region]\n",
    "                    mapped_count[sample_id]['other'] -= mapped_count[sample_id][region]\n",
    "            mapped_count = pd.DataFrame.from_records(mapped_count)        \n",
    "            mapped_ratio = pd.DataFrame.from_records(mapped_ratio)\n",
    "            mapped_count = mapped_count.loc[rna_types, :]\n",
    "            mapped_ratio = mapped_ratio.loc[rna_types, :]\n",
    "            return df,mapped_count.T, mapped_ratio.T\n",
    "        elif sequencing_type =='long':\n",
    "            read_counts = pd.read_table(file_counts, index_col=0)\n",
    "            read_counts = read_counts.T\n",
    "\n",
    "            rna_types = read_counts.columns.tolist()\n",
    "            rna_types.remove('clean')\n",
    "            rna_types_included = list(rna_types)\n",
    "            for rna_type in ('genome', 'rRNA'):\n",
    "                rna_types_included.remove(rna_type)\n",
    "\n",
    "            # percentage by clean reads\n",
    "            #display(read_counts.style.set_caption('Read counts'))\n",
    "\n",
    "            percent_by_clean = read_counts.loc[:, ['clean', 'rRNA', 'genome', 'circRNA']].copy()\n",
    "            percent_by_clean = 100.0*percent_by_clean.div(percent_by_clean.loc[:, 'clean'], axis=0)\n",
    "            percent_by_clean.drop(columns='clean', inplace=True)\n",
    "            percent_by_clean['unmapped'] = 100 - percent_by_clean.sum(axis=1)\n",
    "            #display(percent_by_clean.style.format(gradient_func).set_caption('Percentage by clean reads'))\n",
    "\n",
    "            percent_by_mapped = read_counts.copy()\n",
    "            percent_by_mapped = 100.0*percent_by_mapped.div(percent_by_mapped.loc[:, ['genome', 'circRNA']].sum(axis=1), axis=0)\n",
    "            percent_by_mapped.drop(columns=['rRNA', 'genome', 'clean'], inplace=True)\n",
    "            percent_by_mapped['other'] = 100.0 - percent_by_mapped.sum(axis=1)\n",
    "            #display(percent_by_mapped.style.format(gradient_func).set_caption('Percentage by mapped reads'))\n",
    "            return read_counts,percent_by_clean,percent_by_mapped\n",
    "    else:\n",
    "        if sequencing_type == 'short':\n",
    "            pass\n",
    "        elif sequencing_type =='long':\n",
    "            read_counts = pd.read_table(file_counts, index_col=0)\n",
    "            read_counts = read_counts.T\n",
    "\n",
    "            rna_types = read_counts.columns.tolist()\n",
    "            rna_types.remove('clean')\n",
    "            rna_types_included = list(rna_types)\n",
    "            for rna_type in ('genome', 'rRNA'):\n",
    "                rna_types_included.remove(rna_type)\n",
    "\n",
    "            # percentage by clean reads\n",
    "            #display(read_counts.style.set_caption('Read counts'))\n",
    "\n",
    "            percent_by_clean = read_counts.loc[:, ['clean', 'rRNA', 'genome', 'circRNA']].copy()\n",
    "            percent_by_clean = 100.0*percent_by_clean.div(percent_by_clean.loc[:, 'clean'], axis=0)\n",
    "            percent_by_clean.drop(columns='clean', inplace=True)\n",
    "            percent_by_clean['unmapped'] = 100 - percent_by_clean.sum(axis=1)\n",
    "            #display(percent_by_clean.style.format(gradient_func).set_caption('Percentage by clean reads'))\n",
    "\n",
    "            percent_by_mapped = read_counts.copy()\n",
    "            percent_by_mapped = 100.0*percent_by_mapped.div(percent_by_mapped.loc[:, ['genome', 'circRNA']].sum(axis=1), axis=0)\n",
    "            percent_by_mapped.drop(columns=['rRNA', 'genome', 'clean'], inplace=True)\n",
    "            percent_by_mapped['other'] = 100.0 - percent_by_mapped.sum(axis=1)\n",
    "            #display(percent_by_mapped.style.format(gradient_func).set_caption('Percentage by mapped reads'))\n",
    "            return read_counts,percent_by_clean,percent_by_mapped\n",
    "        "
   ]
  },
  {
   "cell_type": "code",
   "execution_count": null,
   "metadata": {},
   "outputs": [],
   "source": [
    "def get_length_table(file_length_path,sequencing_type='short'):\n",
    "    length_table = {}\n",
    "    for i in os.listdir(file_length_path):\n",
    "        if sequencing_type =='short':\n",
    "            length_table[i] = pd.read_table(file_length_path+i,index_col=0).iloc[16:52]\n",
    "        elif sequencing_type =='long':\n",
    "            length_table[i] = pd.read_table(file_length_path+i,index_col=0).iloc[16:152]\n",
    "    sample_names = np.array(os.listdir(file_length_path))\n",
    "    length_table_sum = length_table[sample_names[0]]\n",
    "    for i in sample_names[1:]:\n",
    "        length_table_sum += length_table[i]\n",
    "    return length_table_sum/length_table_sum.sum(axis=0)"
   ]
  },
  {
   "cell_type": "code",
   "execution_count": null,
   "metadata": {},
   "outputs": [],
   "source": [
    "if sequencing_type == 'short': \n",
    "    read_counts,table_count, table_ratio = get_counts_ratio_table(file_counts)\n",
    "    length_table = get_length_table(file_length_path,sequencing_type=sequencing_type)\n",
    "    rnanames=np.array(table_ratio.columns).astype('str')\n",
    "elif sequencing_type == 'long': \n",
    "    read_counts,percent_by_clean,percent_by_mapped = \\\n",
    "                    get_counts_ratio_table(file_counts,sequencing_type='long')\n",
    "    rnanames_1=np.array(percent_by_clean.columns).astype('str')\n",
    "    rnanames_2=np.array(percent_by_mapped.columns).astype('str')\n",
    "    length_table_1 = get_length_table(file_length_path,sequencing_type=sequencing_type)\n",
    "    length_table_2 = get_length_table(file_length_path_insert,sequencing_type=sequencing_type)"
   ]
  },
  {
   "cell_type": "code",
   "execution_count": null,
   "metadata": {},
   "outputs": [],
   "source": [
    "if sequencing_type == 'short': \n",
    "    table_percent = table_ratio*100\n",
    "    display_dataframe(table_count,filename='Mapped counts',gradientfunc=False)\n",
    "    display_dataframe(table_percent,filename='Percentage by clean reads',gradientfunc=True)\n",
    "elif sequencing_type == 'long': \n",
    "    display_dataframe(read_counts,filename='Read counts',gradientfunc=False)\n",
    "    display_dataframe(percent_by_clean,filename='Percentage by clean reads',gradientfunc=True)\n",
    "    display_dataframe(percent_by_mapped,filename='Percentage by mapped reads',gradientfunc=True)"
   ]
  },
  {
   "cell_type": "markdown",
   "metadata": {},
   "source": [
    "## pie plot of RNA ratio"
   ]
  },
  {
   "cell_type": "code",
   "execution_count": null,
   "metadata": {},
   "outputs": [],
   "source": [
    "from bokeh.io import output_file, show\n",
    "from bokeh.palettes import Category20\n",
    "from bokeh.plotting import figure\n",
    "from bokeh.transform import cumsum"
   ]
  },
  {
   "cell_type": "code",
   "execution_count": null,
   "metadata": {},
   "outputs": [],
   "source": [
    "def plot_pie(data, rnanames):\n",
    "    '''\n",
    "    data: table_ratio\n",
    "    rnanames: rna type names\n",
    "    adjustment: merge RNA with small percent together\n",
    "    '''\n",
    "    x = np.array(rnanames)\n",
    "    y = np.array(data.loc[:,x].mean())+10e-8\n",
    "    z_ = np.array([x[i] + str(' {:.2f}'.format(y[i]*100)+'%') for i in range(y.shape[0])])\n",
    "    z = np.array([float('{:.10f}'.format(y[i]*100)) for i in range(y.shape[0])])\n",
    "    labels = rnanames\n",
    "    dataframe = pd.DataFrame(np.concatenate((x.reshape(-1,1),z.reshape(-1,1),z_.reshape(-1,1)),axis=1))\n",
    "    dataframe.columns=['rna','percent','label']\n",
    "    dataframe[\"percent\"] = pd.to_numeric(dataframe[\"percent\"])\n",
    "    dataframe['angle'] = dataframe['percent']/dataframe['percent'].sum() * 2*pi\n",
    "    dataframe['color'] = Category20[len(x)]\n",
    "    p = figure(plot_height=500,width=750, title=\"Pie Chart\", toolbar_location=None,\n",
    "               tools=\"hover\", tooltips=\"@label\", x_range=(-0.5, 1.0))\n",
    "    p.wedge(x=0.14, y=1, radius=0.45,\n",
    "            start_angle=cumsum('angle', include_zero=True), end_angle=cumsum('angle'),\n",
    "            line_color=\"black\", fill_color='color', legend=\"label\", source=dataframe)\n",
    "    p.axis.axis_label=None\n",
    "    p.axis.visible=False\n",
    "    p.grid.grid_line_color = None\n",
    "    show(p)\n",
    "def plot_for_pie(sequencing_type=sequencing_type,by_sample=False):\n",
    "    if by_sample:\n",
    "        if sequencing_type == 'short': \n",
    "            for i in range(table_ratio.shape[0]):\n",
    "                plot_pie(pd.DataFrame(table_ratio.iloc[i]).T, rnanames)\n",
    "        elif sequencing_type == 'long': \n",
    "            for i in range(percent_by_mapped.shape[0]):\n",
    "                plot_pie(pd.DataFrame(percent_by_mapped.iloc[i]/100.).T, rnanames_2)\n",
    "    else:\n",
    "        if sequencing_type == 'short': \n",
    "            plot_pie(table_ratio, rnanames)\n",
    "        elif sequencing_type == 'long': \n",
    "            plot_pie(percent_by_mapped/100. , rnanames_2)\n",
    "            \n",
    "plot_for_pie(sequencing_type=sequencing_type,by_sample=False)"
   ]
  },
  {
   "cell_type": "markdown",
   "metadata": {},
   "source": [
    "## boxplot of rna ratio"
   ]
  },
  {
   "cell_type": "code",
   "execution_count": null,
   "metadata": {},
   "outputs": [],
   "source": [
    "def plot_ratio_boxplot(data, rnanames, points_show = True, width=20, height=10, savefig=False):\n",
    "    '''\n",
    "    data: table_ratio\n",
    "    rnanames: rna type names\n",
    "    points_show: plot scatter points too\n",
    "    '''\n",
    "    fig, ax = plt.subplots(figsize=(width, height))\n",
    "    sns.boxplot(data = data,ax=ax,boxprops=dict(alpha=.001),color='gray',width=0.65,saturation=0.01)\n",
    "    if points_show:\n",
    "        sns.stripplot(data = data,ax=ax,size=2, edgecolor='black')\n",
    "    \n",
    "    ax = std_plot(ax,'type','percentage','boxplot',ylim=[0,np.ceil(np.max(np.max(data))*10)/10],\n",
    "                 xticklabel=rnanames,rotation=90,legendscale=False,legend_adj=False)\n",
    "\n",
    "    fig.tight_layout()\n",
    "    if savefig:\n",
    "        fig.savefig(save_path+'rna_ratio_box_plot.png', bbox_inches='tight')\n",
    "    #embed_pdf_figure()\n",
    "\n",
    "if sequencing_type == 'long': \n",
    "    plot_ratio_boxplot(percent_by_mapped/100, rnanames_2, points_show = True, \n",
    "               width=7, height=5, savefig=1)\n",
    "else: \n",
    "    plot_ratio_boxplot(table_ratio, rnanames, points_show = True, width=4, height=4, savefig=1)"
   ]
  },
  {
   "cell_type": "markdown",
   "metadata": {},
   "source": [
    "## line plot of rna length"
   ]
  },
  {
   "cell_type": "code",
   "execution_count": null,
   "metadata": {},
   "outputs": [],
   "source": [
    "def plot_length_line(data, rnanames, width=7, height=20, savefig=False):\n",
    "    '''\n",
    "    data: length_table\n",
    "    rnanames: rna type names\n",
    "    '''\n",
    "    data=data.fillna(0)\n",
    "    length = np.array(data.T)\n",
    "    fig,ax=plt.subplots(length.shape[0],1,figsize=(width, height))\n",
    "    for i in range(length.shape[0]):\n",
    "        ax[i].plot(length[i],label=data.columns[i], color=Category20c[20][i],linewidth=1)\n",
    "        ax[i].legend(loc='upper right')\n",
    "        std_plot(ax[i],'','',ylim=[0,max(length[i])],ybins=5,row=length.shape[0])\n",
    "        legend = ax[i].legend(prop=fontlegend,\n",
    "              bbox_to_anchor=None,\n",
    "              borderpad=1,\n",
    "              edgecolor=\"#000000\",fancybox=False)\n",
    "        ax[i].legend_.get_frame()._linewidth=0.5\n",
    "        legend.get_title().set_fontweight('normal')\n",
    "        legend.get_title().set_fontsize(6.5)\n",
    "    if savefig:\n",
    "        fig.savefig(save_path+'rna_length_line_plot'+saveformat, bbox_inches='tight')\n",
    "    fig.tight_layout()\n",
    "    #embed_pdf_figure()"
   ]
  },
  {
   "cell_type": "code",
   "execution_count": null,
   "metadata": {},
   "outputs": [],
   "source": [
    "if sequencing_type == 'long': \n",
    "    plot_length_line(length_table_1, rnanames_1, width=7, height=length_table_1.shape[1], savefig=1)\n",
    "    plot_length_line(length_table_2, rnanames_2, width=7, height=length_table_2.shape[1], savefig=1)\n",
    "else: \n",
    "    plot_length_line(length_table, rnanames, width=7, height=length_table.shape[1], savefig=1)"
   ]
  },
  {
   "cell_type": "markdown",
   "metadata": {},
   "source": [
    "## 3D barplot of rna length"
   ]
  },
  {
   "cell_type": "code",
   "execution_count": null,
   "metadata": {},
   "outputs": [],
   "source": [
    "from mpl_toolkits.mplot3d import Axes3D\n",
    "def plot_3d(data, width=7, height=5,  azim = 45, elev = 32,savefig=False):\n",
    "    '''\n",
    "    data: length_table\n",
    "    '''\n",
    "    #data = length_table\n",
    "    data=data.fillna(0)\n",
    "    fig = plt.figure(figsize=(width,height))\n",
    "    ax1 = fig.gca(projection=\"3d\")\n",
    "    num = data.shape[1]\n",
    "    count_ = data.shape[0]\n",
    "    xpos = np.repeat(np.arange(1,count_+1),num).reshape(count_,-1).T.ravel()\n",
    "    ypos = np.repeat(range(num),count_).ravel()\n",
    "    num_elements = len(xpos)\n",
    "    zpos = np.zeros(count_*num)\n",
    "    dx = np.ones(count_*num)/5\n",
    "    dy = np.ones(count_*num)/5\n",
    "    dz = np.array(data.T).ravel()\n",
    "    \n",
    "    for i in range(num):\n",
    "        ax1.bar3d(xpos[count_*i:count_*(i+1)], ypos[count_*i:count_*(i+1)], zpos[count_*i:count_*(i+1)],\n",
    "                  dx[count_*i:count_*(i+1)], dy[count_*i:count_*(i+1)],dz[count_*i:count_*(i+1)], color=(np.array(Category20c[20]))[:num][i],alpha=0.9)\n",
    "    plt.xticks(range(count_), [str(i+16) for i in range(count_)], size=6.5,color='red',weight='normal',family='Arial',rotation=-azim)\n",
    "    ax1.set_yticks(range(num))\n",
    "    ax1.set_yticklabels(data.columns, color='blue',weight='normal',family='Arial', size=6.5)\n",
    "    fig.canvas.draw()\n",
    "    ax1.set_zticks(ax1.get_zticks())\n",
    "    ax1.set_zticklabels(ax1.get_zticklabels(),weight='normal',family='Arial', size=6.5)\n",
    "    for color,tick in zip((Category20c[20])[:num],ax1.yaxis.get_major_ticks()):\n",
    "        tick.label1.set_color(color)\n",
    "    ax1.view_init(azim=azim,elev=elev)  \n",
    "    ax1.xaxis.pane.fill = False\n",
    "    ax1.yaxis.pane.fill = False\n",
    "    ax1.zaxis.pane.fill = False\n",
    "    ax1.xaxis.pane.set_edgecolor('w')\n",
    "    ax1.yaxis.pane.set_edgecolor('w')\n",
    "    ax1.zaxis.pane.set_edgecolor('w')\n",
    "    fig.tight_layout()\n",
    "    if savefig:\n",
    "        fig.savefig(save_path+'rna_length_3D_barplot'+saveformat, bbox_inches='tight')"
   ]
  },
  {
   "cell_type": "code",
   "execution_count": null,
   "metadata": {},
   "outputs": [],
   "source": [
    "if sequencing_type == 'long': \n",
    "    plot_3d(length_table_1,width=7, height=5, savefig=1, azim = 45, elev = 32)\n",
    "    embed_pdf_figure()\n",
    "    plot_3d(length_table_2,width=7, height=5, savefig=1, azim = 45, elev = 32)\n",
    "    #embed_pdf_figure()\n",
    "else:\n",
    "    plot_3d(length_table,width=7, height=5, savefig=True, azim = 45, elev = 32)\n",
    "    #embed_pdf_figure()"
   ]
  },
  {
   "cell_type": "markdown",
   "metadata": {},
   "source": [
    "## stack bar plot of rna counts and ratio"
   ]
  },
  {
   "cell_type": "code",
   "execution_count": null,
   "metadata": {},
   "outputs": [],
   "source": [
    "from matplotlib.colors import LinearSegmentedColormap\n",
    "def stack_bar_ratio(table, ax,statistics = 'ratio',savefig=1):   \n",
    "    \n",
    "    table.plot(kind='bar', stacked=True,ax=ax,width=0.5,\n",
    "                legend=True,colormap=matplotlib.colors.ListedColormap ( Category20c[20]))\n",
    "    #ax.legend(bbox_to_anchor=(1,1),fontsize='large')#, loc=\"lower right\",\n",
    "    #ax.set_title('Stacked Bar plot',fontsize=40)\n",
    "    if savefig:\n",
    "        fig.savefig(save_path+statistics+'_stack_barplot'+saveformat, bbox_inches='tight')\n",
    "    return ax"
   ]
  },
  {
   "cell_type": "code",
   "execution_count": null,
   "metadata": {},
   "outputs": [],
   "source": [
    "@contextmanager\n",
    "def embed_pdf_data(width=640, height=480, title='Image'):\n",
    "    try:\n",
    "        data = BytesIO()\n",
    "        yield data\n",
    "    finally:\n",
    "        data = data.getvalue()\n",
    "\n",
    "        data = 'data:application/pdf;base64,'+ str(b64encode(data), encoding='utf-8')\n",
    "        display(HTML('<object width=\"{}\" height=\"{}\" data=\"{}\"></object>'.format(width, height, data)))\n",
    "        plt.close()"
   ]
  },
  {
   "cell_type": "code",
   "execution_count": null,
   "metadata": {},
   "outputs": [],
   "source": [
    "fig,ax=plt.subplots(figsize=(14,4))\n",
    "if sequencing_type == 'long': \n",
    "    ax = stack_bar_ratio(percent_by_mapped/100.,ax=ax)\n",
    "else:\n",
    "    ax = stack_bar_ratio(table_ratio,ax=ax)\n",
    "\n",
    "std_plot(ax,'sample','percentage',legendtitle='type',legendsort=False,ylim=[0,1],bbox_to_anchor=(1,1),borderpad=0.2,ncol=2)\n",
    "fig.tight_layout()\n",
    "with embed_pdf_data(title='Clustermap') as data:\n",
    "    fig.savefig(data, format='pdf')\n",
    "\n",
    "#embed_pdf_figure()"
   ]
  },
  {
   "cell_type": "code",
   "execution_count": null,
   "metadata": {},
   "outputs": [],
   "source": [
    "fig,ax=plt.subplots(figsize=(14,4))\n",
    "    \n",
    "if sequencing_type == 'long': \n",
    "    ax = stack_bar_ratio(percent_by_mapped/100,ax=ax)\n",
    "else:\n",
    "    ax = stack_bar_ratio(table_ratio,ax=ax)\n",
    "\n",
    "std_plot(ax,'sample','counts(1e7)',legendtitle='type',legendsort=False,bbox_to_anchor=(1,1),borderpad=0.2,ncol=2)\n",
    "fig.tight_layout()\n",
    "#embed_pdf_figure()"
   ]
  },
  {
   "cell_type": "code",
   "execution_count": null,
   "metadata": {},
   "outputs": [],
   "source": [
    "fig,ax=plt.subplots(figsize=(14,4))\n",
    "    \n",
    "if sequencing_type == 'long': \n",
    "    ax = stack_bar_ratio(read_counts,ax=ax)\n",
    "else:\n",
    "    ax = stack_bar_ratio(table_count,ax=ax)\n",
    "\n",
    "std_plot(ax,'sample','counts(1e7)',legendtitle='type',legendsort=False,bbox_to_anchor=(1,1),borderpad=0.2,ncol=2)\n",
    "fig.tight_layout()\n",
    "#embed_pdf_figure()"
   ]
  },
  {
   "cell_type": "markdown",
   "metadata": {},
   "source": [
    "## bar plot of RNA by sample"
   ]
  },
  {
   "cell_type": "code",
   "execution_count": null,
   "metadata": {},
   "outputs": [],
   "source": [
    "def plot_bar_by_rna(fig,ax,table,rnaname,savefig=1, statistics = 'ratio',height = 4, width=20):\n",
    "    '''\n",
    "    table: ratio or count table, rows are rna type\n",
    "    statistics: ratio or count\n",
    "    '''\n",
    "    table = table.T\n",
    "    count = np.array(table[table.index ==rnaname]).ravel()\n",
    "    #fig,ax=plt.subplots(1,figsize=(width,height))\n",
    "    counttable =  pd.DataFrame(np.concatenate((np.arange(1,table.shape[1]+1).reshape(-1,1),\n",
    "                count[np.argsort(-count)].reshape(-1,1)),axis=1),columns=['sample',statistics])\n",
    "    \n",
    "    sns.barplot(ax=ax,x='sample',y=statistics,data = counttable,color=Category20c[20][np.random.randint(0,20)],alpha=1)\n",
    "    ax.set_xticks(np.arange(0,table.shape[1],5))\n",
    "    ax.set_xticklabels(np.arange(0,table.shape[1],5))\n",
    "    ax.set_title(statistics+' of '+rnaname,fontsize=15)\n",
    "    if savefig:\n",
    "        fig.savefig(save_path+'sample_'+rnaname+'_'+statistics+'_bar_plot'+saveformat, bbox_inches='tight')\n",
    "        "
   ]
  },
  {
   "cell_type": "code",
   "execution_count": null,
   "metadata": {},
   "outputs": [],
   "source": [
    "def plot_bar_by_rna_total(table,datatype='ratio'):\n",
    "    fignum= table.columns.shape[0]\n",
    "    fig,ax=plt.subplots(fignum ,1,figsize=(7 , 24 ))\n",
    "    for i in range(fignum):\n",
    "        plot_bar_by_rna(fig,ax[i],table,table.columns[i],statistics = datatype)\n",
    "        std_plot(ax[i],'sample','ratio',datatype+' of '+table.columns[i])\n",
    "    fig.tight_layout()"
   ]
  },
  {
   "cell_type": "markdown",
   "metadata": {
    "scrolled": true
   },
   "source": [
    "if sequencing_type == 'long': \n",
    "    plot_bar_by_rna_total(percent_by_mapped/100.,datatype='ratio')\n",
    "else: \n",
    "    plot_bar_by_rna_total(table_ratio,datatype='ratio')\n",
    "\n",
    "embed_pdf_figure()"
   ]
  },
  {
   "cell_type": "markdown",
   "metadata": {
    "scrolled": true
   },
   "source": [
    "if sequencing_type == 'long': \n",
    "    plot_bar_by_rna_total(percent_by_mapped/100.,datatype='count')\n",
    "else: \n",
    "    plot_bar_by_rna_total(table_ratio,datatype='count')\n",
    "\n",
    "\n",
    "embed_pdf_figure()"
   ]
  },
  {
   "cell_type": "markdown",
   "metadata": {},
   "source": [
    "## FastQC"
   ]
  },
  {
   "cell_type": "code",
   "execution_count": null,
   "metadata": {},
   "outputs": [],
   "source": [
    "summary = pd.read_table('output/'+dataset+'/summary/fastqc.txt', sep='\\t')\n",
    "qc_status = summary.iloc[:, 9:]\n",
    "qc_status.fillna('NA')\n",
    "qc_status = qc_status.astype('str')\n",
    "sample_ids = summary.sample_id\n",
    "sections = qc_status.columns.values\n",
    "def style_func(val):\n",
    "    status, row, col = val.split('|')\n",
    "    row, col = int(row), int(col)\n",
    "    color = {'pass': 'green', 'fail': 'red', 'warn': 'orange'}.get(status, 'gray')\n",
    "    return '<a href=\"../output/'+dataset+'/fastqc/{sample_id}_fastqc.html#M{section}\" style=\"color: {color}\">{status}</a>'.format(\n",
    "        sample_id=sample_ids[row], color=color, status=status, section=col + 1)\n",
    "\n",
    "pd.DataFrame(qc_status.values \\\n",
    "             + '|' + np.arange(qc_status.shape[0]).astype('str')[:, np.newaxis] \\\n",
    "             + '|' + np.arange(qc_status.shape[1]).astype('str')[np.newaxis, :],\n",
    "             index=qc_status.index, columns=qc_status.columns) \\\n",
    "    .style.format(style_func)"
   ]
  },
  {
   "cell_type": "markdown",
   "metadata": {},
   "source": [
    "## Sample QC\n",
    "use PCA and tSNE to visualize outliters"
   ]
  },
  {
   "cell_type": "code",
   "execution_count": null,
   "metadata": {},
   "outputs": [],
   "source": [
    "original_mx_file = 'output/'+dataset+'/count_matrix/'+exp_mx_name+'.txt'\n",
    "original_mx = pd.read_table(original_mx_file,index_col=0)"
   ]
  },
  {
   "cell_type": "code",
   "execution_count": null,
   "metadata": {},
   "outputs": [],
   "source": [
    "def PCA_plot_basic(ax,data,sampleclass,method = 'PCA'):\n",
    "    X = log_transfrom(data).T\n",
    "    X = StandardScaler().fit_transform(X)\n",
    "    if method == 'PCA':\n",
    "        transform = PCA()\n",
    "    elif method == 'tSNE':\n",
    "        transform = TSNE()\n",
    "    elif method == 'UMAP':\n",
    "        transform = umap.UMAP(n_neighbors=5,min_dist=0.3,metric='correlation')\n",
    "    \n",
    "    X_pca = transform.fit_transform(X)\n",
    "    plot_table = pd.DataFrame(X_pca[:,:2])\n",
    "    plot_table.columns = ['dimension_1','dimension_2']\n",
    "    g = sns.scatterplot(ax=ax,data=plot_table,x=\"dimension_1\", y=\"dimension_2\",\n",
    "                   s=50)\n",
    "    return g\n",
    "    #plt.figure(linewidth=30.5)\n",
    "    #ax.spines['right'].set_visible(False)\n",
    "    #ax.spines['top'].set_visible(False)\n",
    "def sample_qc_visualize_outlier(original_mx,table_ratio,method='PCA'):\n",
    "    fig, ax = plt.subplots(1,2,figsize=(7, 4))\n",
    "    if method=='PCA':\n",
    "        method_PCA = True\n",
    "    elif method=='tSNE':\n",
    "        method_PCA = False\n",
    "    g = PCA_plot_basic(ax[0],original_mx, method_PCA)\n",
    "    std_plot(g,'Dimension 1','Dimension 2','Original matrix',legendscale=False,legend_adj=False)\n",
    "    g = PCA_plot_basic(ax[1],table_ratio, method_PCA)\n",
    "    std_plot(g,'Dimension 1','Dimension 2','Table ratio',legendscale=False,legend_adj=False)\n",
    "    #embed_pdf_figure()"
   ]
  },
  {
   "cell_type": "code",
   "execution_count": null,
   "metadata": {},
   "outputs": [],
   "source": [
    "if sequencing_type=='short':\n",
    "    sample_qc_visualize_outlier(original_mx,table_ratio.T,method='tSNE')\n",
    "elif sequencing_type=='long':\n",
    "    sample_qc_visualize_outlier(original_mx,percent_by_clean.T,method='tSNE')"
   ]
  },
  {
   "cell_type": "markdown",
   "metadata": {},
   "source": [
    "## Differential Expression"
   ]
  },
  {
   "cell_type": "code",
   "execution_count": null,
   "metadata": {},
   "outputs": [],
   "source": [
    "compare_list_use = np.array(['Normal-CRC','Normal-CRC_S1','Normal-HCC','Normal-stage_A'])\n",
    "                             #,'Normal-PAAD','Normal-PRAD'\n",
    "\n",
    "if dataset =='scirep':\n",
    "    compare_group_list = ['Normal-CRC','Normal-PAAD','Normal-PRAD','Normal-CRC_S1','Normal-CRC_S2','Normal-CRC_S3','Normal-CRC_S4']\n",
    "elif dataset =='exorbase':\n",
    "    compare_group_list = ['Normal-HCC','Normal-CRC','Normal-PAAD']\n",
    "elif dataset =='pico_3v3':\n",
    "    compare_group_list = ['Normal-CRC']\n",
    "elif dataset =='lulab_hcc':\n",
    "    compare_group_list = ['Normal-HCC','Normal-stage_A']\n",
    "    "
   ]
  },
  {
   "cell_type": "code",
   "execution_count": null,
   "metadata": {
    "scrolled": false
   },
   "outputs": [],
   "source": [
    "def volcano_plot():\n",
    "    for compare_group in compare_group_list: \n",
    "        if np.isin( compare_group,compare_list_use):\n",
    "            detable = pd.read_table('output/'+dataset+'/differential_expression/'+exp_mx_name+'/'+compare_group+'/deseq2.txt'\n",
    "                                    ,index_col=0)\n",
    "            de_plot_mx = pd.DataFrame(data={'feature':[name.split('|')[0] for name in detable.index.values],\n",
    "                                      'log2FoldChange':detable['log2FoldChange'].tolist(),\n",
    "                                      'padj':detable['padj'].tolist()})\n",
    "            de_plot_mx.set_index('feature',inplace=True)\n",
    "            de_plot_mx['threshold'] = (abs(de_plot_mx['log2FoldChange'])>1) & (de_plot_mx['padj']<0.05)\n",
    "            de_plot_mx['-log10(q values)'] = [-math.log10(qvalue) for qvalue in de_plot_mx['padj'].tolist()]\n",
    "            #de_plot_mx.iloc[np.where(de_plot_mx['threshold']==True)]\n",
    "            de_plot_mx['color'] = de_plot_mx['threshold']\n",
    "            for i in np.where(de_plot_mx['threshold']==True):\n",
    "                de_plot_mx['color'][i]='#DA706F'\n",
    "            for i in np.where(de_plot_mx['threshold']==False):\n",
    "                de_plot_mx['color'][i]='#5876B9'\n",
    "\n",
    "            fig,ax=plt.subplots(figsize=(4,4))\n",
    "            ax.scatter(de_plot_mx['log2FoldChange'], de_plot_mx['-log10(q values)'], c=de_plot_mx['color'],s=10,alpha=0.8,edgecolors='none')\n",
    "            ax.vlines(-1,-1,10,linewidth=0.5)\n",
    "            ax.vlines(1,-1,10,linewidth=0.5)\n",
    "            ax.hlines(-math.log10(0.05),-4,4,linewidth=0.5)\n",
    "            std_plot(ax,'log2FoldChange','-log10(q values)','volcano plot of '+compare_group,ylim=[-2,18])\n",
    "            ax.tick_params(direction='out', pad=2)\n",
    "            fig.tight_layout()\n",
    "            fig.savefig(save_path+'volcano_plot_of_'+compare_group+saveformat)\n",
    "            #embed_pdf_figure()\n",
    "volcano_plot()"
   ]
  },
  {
   "cell_type": "code",
   "execution_count": null,
   "metadata": {},
   "outputs": [],
   "source": [
    "class_info = 'data/'+dataset+'/sample_classes.txt'\n",
    "\n",
    "original_mx_file = 'output/'+dataset+'/count_matrix/'+exp_mx_name+'.txt'\n",
    "filter_mx_file = 'output/'+dataset+'/matrix_processing/filter.'+exp_mx_name+'.txt'\n",
    "\n",
    "original_mx = pd.read_table(original_mx_file,index_col=0)\n",
    "filter_mx = pd.read_table(filter_mx_file,index_col=0)\n",
    "if dataset=='lulab_hcc':\n",
    "    sample_class_stage = pd.read_table(class_info,sep='\\t',index_col=0)\n",
    "    sample_classes = sample_class_stage.copy()\n",
    "    sample_classes[sample_class_stage.label !='Normal'] ='HCC'\n",
    "elif dataset=='exorbase':\n",
    "    sample_classes = pd.read_table(class_info,sep='\\t',index_col=0)"
   ]
  },
  {
   "cell_type": "code",
   "execution_count": null,
   "metadata": {},
   "outputs": [],
   "source": [
    "DE_methods = ['deseq2','edger_exact','edger_glmlrt','edger_glmqlf','wilcox']"
   ]
  },
  {
   "cell_type": "code",
   "execution_count": null,
   "metadata": {},
   "outputs": [],
   "source": [
    "def heamap_plot(mat,sample_class=sample_classes):\n",
    "    if sequencing_type=='short':\n",
    "        norm_mx = mat/mat.sum(axis=0)*10e6\n",
    "        norm_mx = (norm_mx+0.01).apply(np.log2,0)\n",
    "\n",
    "    if sequencing_type=='long':\n",
    "        norm_mx = mat/mat.sum(axis=0)*10e6\n",
    "        length = np.array([mat.index[i].split('|')[-1] for i in range(mat.index.shape[0])]).astype('int')-\\\n",
    "        np.array([mat.index[i].split('|')[-2] for i in range(mat.index.shape[0])]).astype('int')\n",
    "\n",
    "        norm_mx = (norm_mx.T/length).T*1000\n",
    "        norm_mx = (norm_mx+0.01).apply(np.log2,0)\n",
    "\n",
    "    for compare_group in tqdm(compare_group_list):\n",
    "        if np.isin( compare_group,compare_list_use):\n",
    "            if dataset=='scirep':\n",
    "                if compare_group=='Normal-CRC_S1':\n",
    "                    class_compare = np.array([ 'Colorectal Cancer Stage 1', 'Healthy Control'])\n",
    "                if compare_group=='Normal-CRC_S1':\n",
    "                    class_compare = np.array([ 'Colorectal Cancer Stage 1', 'Healthy Control'])\n",
    "                if compare_group=='Normal-CRC_S1':\n",
    "                    class_compare = np.array([ 'Colorectal Cancer Stage 1', 'Healthy Control'])\n",
    "                if compare_group=='Normal-CRC_S1':\n",
    "                    class_compare = np.array([ 'Colorectal Cancer Stage 1', 'Healthy Control'])\n",
    "                if compare_group == 'Normal-CRC':\n",
    "                    class_select = ['Healthy Control','Colorectal Cancer']\n",
    "                if compare_group == 'Normal-PAAD':\n",
    "                    class_select = ['Healthy Control','Pancreatic Cancer']\n",
    "                if compare_group == 'Normal-PRAD':\n",
    "                    class_select = ['Healthy Control','Prostate Cancer']\n",
    "            elif dataset=='exorbase':\n",
    "                if compare_group == 'Normal-CRC':\n",
    "                    class_select = ['Healthy','CRC']\n",
    "                if compare_group == 'Normal-HCC':\n",
    "                    class_select = ['Healthy','HCC']\n",
    "                if compare_group == 'Normal-PAAD':\n",
    "                    class_select = ['Healthy','PAAD']\n",
    "            elif dataset=='lulab_hcc':\n",
    "                if compare_group == 'Normal-HCC':\n",
    "                    class_select = ['Normal','HCC']\n",
    "                    sample_class = sample_classes\n",
    "                if compare_group == 'Normal-stage_A':\n",
    "                    class_select = ['Normal','stage_A']\n",
    "                    sample_class = sample_class_stage\n",
    "            elif dataset=='pico_3v3':\n",
    "                if compare_group == 'Normal-CRC':\n",
    "                    class_select = ['Control','CRC']\n",
    "\n",
    "            print (compare_group)\n",
    "            norm_mx_delete = norm_mx\n",
    "            norm_mx_delete = norm_mx_delete.loc[:,np.array(sample_class.iloc[np.where(np.isin(sample_class['label'],class_select)==1)[0]].index)]\n",
    "            norm_z_mx = norm_mx_delete.apply(scipy.stats.zscore,1)\n",
    "            detable = pd.read_table('output/'+dataset+'/differential_expression/'+exp_mx_name+'/'+compare_group+'/deseq2.txt'\n",
    "                                    ,index_col=0)\n",
    "            de_plot_mx = pd.DataFrame(data={'feature':[name.split('|')[0] for name in detable.index.values],\n",
    "                                      'log2FoldChange':detable['log2FoldChange'].tolist(),\n",
    "                                      'padj':detable['padj'].tolist()})\n",
    "            de_plot_mx.set_index('feature',inplace=True)\n",
    "            de_plot_mx['threshold'] = (abs(de_plot_mx['log2FoldChange'])>1) & (de_plot_mx['padj']<0.05)\n",
    "            de_plot_mx['-log10(q values)'] = [-math.log10(qvalue) for qvalue in de_plot_mx['padj'].tolist()]\n",
    "            \n",
    "            detable['-log10(q values)']=-np.log10(detable['padj'])\n",
    "            detable['metrics']=detable['-log10(q values)']*np.abs(detable['log2FoldChange'])\n",
    "            de_mx = pd.DataFrame(norm_z_mx).loc[detable.sort_values('metrics',ascending=False).iloc[np.where(de_plot_mx.sort_values('-log10(q values)',ascending=False)['threshold']==True)].index]\n",
    "            \n",
    "            type_select =pd.DataFrame(sample_class.loc[de_mx.columns])\n",
    "            column_colors = np.zeros(type_select.shape[0]).astype('str')\n",
    "            column_colors[np.where(type_select.label==class_select[0])] = np.array([\"#DA706F\"])\n",
    "            column_colors[np.where(type_select.label==class_select[1])] = np.array([\"#5876B9\"])\n",
    "            tmpind = de_mx.index\n",
    "            tmpind = np.array([tmpind[i].split('|')[0]+'|'+tmpind[i].split('|')[1]+'|'+tmpind[i].split('|')[2] for i in range(tmpind.shape[0])])\n",
    "            de_mx.index = tmpind\n",
    "            de_mx = de_mx.fillna(0)\n",
    "            g = sns.clustermap(de_mx.iloc[:20], row_cluster=False,cmap=\"vlag\",\n",
    "                           col_colors=column_colors,linewidths=.005,vmax=3,vmin=-3)#,z_score=0)\n",
    "            g.savefig(save_path+compare_group+'_DE_heatmap'+saveformat)\n",
    "            #with embed_pdf_data() as data:\n",
    "                #g.savefig(data, format='pdf', metadata={'Title': compare_group})\n",
    "heamap_plot(original_mx)"
   ]
  },
  {
   "cell_type": "markdown",
   "metadata": {},
   "source": [
    "**if you would like to try...**\n",
    "\n",
    "Find suitable methods and metrics for better visualization\n",
    "```python\n",
    "cluster_methods = ['single','average','weighted','centroid','median','ward']\n",
    "cluster_metrics=['euclidean','correlation','cosine','seuclidean',\n",
    "                 'braycurtis', 'canberra','chebyshev', 'cityblock','dice',\n",
    "                 'hamming','jaccard','kulsinski','matching',\n",
    "                 'minkowski','rogerstanimoto','russellrao','sokalmichener','sokalsneath',\n",
    "                 'sqeuclidean']\n",
    "```"
   ]
  },
  {
   "cell_type": "code",
   "execution_count": null,
   "metadata": {},
   "outputs": [],
   "source": [
    "def heamap_plot(mat,sample_class=sample_classes):\n",
    "    if sequencing_type=='short':\n",
    "        norm_mx = mat/mat.sum(axis=0)*10e6\n",
    "        norm_mx = (norm_mx+0.01).apply(np.log2,0)\n",
    "\n",
    "    if sequencing_type=='long':\n",
    "        norm_mx = mat/mat.sum(axis=0)*10e6\n",
    "        length = np.array([mat.index[i].split('|')[-1] for i in range(mat.index.shape[0])]).astype('int')-\\\n",
    "        np.array([mat.index[i].split('|')[-2] for i in range(mat.index.shape[0])]).astype('int')\n",
    "\n",
    "        norm_mx = (norm_mx.T/length).T*1000\n",
    "        norm_mx = (norm_mx+0.01).apply(np.log2,0)\n",
    "\n",
    "    for compare_group in tqdm(compare_group_list):\n",
    "        if np.isin( compare_group,compare_list_use):\n",
    "            if dataset=='scirep':\n",
    "                if compare_group=='Normal-CRC_S1':\n",
    "                    class_compare = np.array([ 'Colorectal Cancer Stage 1', 'Healthy Control'])\n",
    "                if compare_group=='Normal-CRC_S1':\n",
    "                    class_compare = np.array([ 'Colorectal Cancer Stage 1', 'Healthy Control'])\n",
    "                if compare_group=='Normal-CRC_S1':\n",
    "                    class_compare = np.array([ 'Colorectal Cancer Stage 1', 'Healthy Control'])\n",
    "                if compare_group=='Normal-CRC_S1':\n",
    "                    class_compare = np.array([ 'Colorectal Cancer Stage 1', 'Healthy Control'])\n",
    "                if compare_group == 'Normal-CRC':\n",
    "                    class_select = ['Healthy Control','Colorectal Cancer']\n",
    "                if compare_group == 'Normal-PAAD':\n",
    "                    class_select = ['Healthy Control','Pancreatic Cancer']\n",
    "                if compare_group == 'Normal-PRAD':\n",
    "                    class_select = ['Healthy Control','Prostate Cancer']\n",
    "            elif dataset=='exorbase':\n",
    "                if compare_group == 'Normal-CRC':\n",
    "                    class_select = ['Healthy','CRC']\n",
    "                if compare_group == 'Normal-HCC':\n",
    "                    class_select = ['Healthy','HCC']\n",
    "                if compare_group == 'Normal-PAAD':\n",
    "                    class_select = ['Healthy','PAAD']\n",
    "            elif dataset=='lulab_hcc':\n",
    "                if compare_group == 'Normal-HCC':\n",
    "                    class_select = ['Normal','HCC']\n",
    "                    sample_class = sample_classes\n",
    "                if compare_group == 'Normal-stage_A':\n",
    "                    class_select = ['Normal','stage_A']\n",
    "                    sample_class = sample_class_stage\n",
    "            elif dataset=='pico_3v3':\n",
    "                if compare_group == 'Normal-CRC':\n",
    "                    class_select = ['Control','CRC']\n",
    "\n",
    "            print (compare_group)\n",
    "            norm_mx_delete = norm_mx\n",
    "            norm_mx_delete = norm_mx_delete.loc[:,np.array(sample_class.iloc[np.where(np.isin(sample_class['label'],class_select)==1)[0]].index)]\n",
    "            norm_z_mx = norm_mx_delete.apply(scipy.stats.zscore,1)\n",
    "            detable = pd.read_table('output/'+dataset+'/differential_expression/'+exp_mx_name+'/'+compare_group+'/deseq2.txt'\n",
    "                                    ,index_col=0)\n",
    "            de_plot_mx = pd.DataFrame(data={'feature':[name.split('|')[0] for name in detable.index.values],\n",
    "                                      'log2FoldChange':detable['log2FoldChange'].tolist(),\n",
    "                                      'padj':detable['padj'].tolist()})\n",
    "            de_plot_mx.set_index('feature',inplace=True)\n",
    "            de_plot_mx['threshold'] = (abs(de_plot_mx['log2FoldChange'])>1) & (de_plot_mx['padj']<0.05)\n",
    "            de_plot_mx['-log10(q values)'] = [-math.log10(qvalue) for qvalue in de_plot_mx['padj'].tolist()]\n",
    "            \n",
    "            detable['-log10(q values)']=-np.log10(detable['padj'])\n",
    "            detable['metrics']=detable['-log10(q values)']*np.abs(detable['log2FoldChange'])\n",
    "            de_mx = pd.DataFrame(norm_z_mx).loc[detable.sort_values('metrics',ascending=False).iloc[np.where(de_plot_mx.sort_values('-log10(q values)',ascending=False)['threshold']==True)].index]\n",
    "\n",
    "            type_select =pd.DataFrame(sample_class.loc[de_mx.columns])\n",
    "            column_colors = np.zeros(type_select.shape[0]).astype('str')\n",
    "            column_colors[np.where(type_select.label==class_select[0])] = np.array([\"#DA706F\"])\n",
    "            column_colors[np.where(type_select.label==class_select[1])] = np.array([\"#5876B9\"])\n",
    "            tmpind = de_mx.index\n",
    "            tmpind = np.array([tmpind[i].split('|')[0]+'|'+tmpind[i].split('|')[1]+'|'+tmpind[i].split('|')[2] for i in range(tmpind.shape[0])])\n",
    "            de_mx.index = tmpind\n",
    "            de_mx = de_mx.fillna(0)\n",
    "            g = sns.clustermap(de_mx.iloc[:20], row_cluster=False,cmap=\"vlag\",\n",
    "                           col_colors=column_colors,linewidths=.005,vmax=3,vmin=-3)#,z_score=0)\n",
    "            g.savefig(save_path+compare_group+'_DE_heatmap'+saveformat)\n",
    "            #with embed_pdf_data() as data:\n",
    "               # g.savefig(data, format='pdf', metadata={'Title': compare_group})\n",
    "heamap_plot(original_mx)"
   ]
  },
  {
   "cell_type": "code",
   "execution_count": null,
   "metadata": {},
   "outputs": [],
   "source": [
    "cpm_table_origin_ = pd.read_table('output/'+dataset+'/count_matrix/'+exp_mx_name+'.txt',index_col=0)\n",
    "cpm_table_origin =  cpm_table_origin_/cpm_table_origin_.sum(axis=0)*10e6\n",
    "length_tmp = np.array([cpm_table_origin.index[i].split('|')[-1] for i in range(cpm_table_origin.index.shape[0])]).astype('int')-\\\n",
    "np.array([cpm_table_origin.index[i].split('|')[-2] for i in range(cpm_table_origin.index.shape[0])]).astype('int')\n",
    "rpkm_table_origin = (cpm_table_origin.T/length_tmp*1000).T\n"
   ]
  },
  {
   "cell_type": "code",
   "execution_count": null,
   "metadata": {
    "scrolled": false
   },
   "outputs": [],
   "source": [
    "from matplotlib.colors import ListedColormap, LinearSegmentedColormap\n",
    "viridisBig = cm.get_cmap('BuGn', 512)\n",
    "newcmp = ListedColormap(viridisBig(np.linspace(0.4, 1, 256)))\n",
    "def DE_scatter(area_=(6.0,8.0),nameshort=True,savefig=True,DE_method='deseq2',up_regulated=1):\n",
    "    for compare_group in compare_group_list: \n",
    "        if np.isin( compare_group,compare_list_use):\n",
    "            detable = pd.read_table('output/'+dataset+'/differential_expression/'+exp_mx_name+'/'+compare_group+'/'+DE_method+'.txt'\n",
    "                                    ,index_col=0)\n",
    "            de_plot_mx = pd.DataFrame(data={'feature':detable.index,\n",
    "                                      'log2FoldChange':detable['log2FoldChange'].tolist(),\n",
    "                                      'padj':detable['padj'].tolist()})\n",
    "            de_plot_mx.set_index('feature',inplace=True)\n",
    "            if up_regulated:\n",
    "                de_plot_mx['threshold'] = (de_plot_mx['log2FoldChange']>1) & (de_plot_mx['padj']<0.05)\n",
    "            else:\n",
    "                de_plot_mx['threshold'] = (abs(de_plot_mx['log2FoldChange'])>1) & (de_plot_mx['padj']<0.05)\n",
    "            de_plot_mx['-log10(q values)'] = [-math.log10(qvalue) for qvalue in de_plot_mx['padj'].tolist()]\n",
    "            de_plot_mx['color'] = de_plot_mx['threshold']\n",
    "            for i in np.where(de_plot_mx['threshold']==True):\n",
    "                de_plot_mx['color'][i]='#DA706F'\n",
    "            for i in np.where(de_plot_mx['threshold']==False):\n",
    "                de_plot_mx['color'][i]='#5876B9'\n",
    "            \n",
    "            if dataset=='scirep':\n",
    "                rpkmtable = cpm_table_origin\n",
    "                matrix_type='cpm'\n",
    "            elif dataset=='lulab_hcc':\n",
    "                rpkmtable = cpm_table_origin\n",
    "                matrix_type='cpm'\n",
    "            elif dataset=='exorbase':\n",
    "                rpkmtable = rpkm_table_origin\n",
    "                matrix_type='rpkm'\n",
    "            elif dataset=='pico_3v3':\n",
    "                rpkmtable = rpkm_table_origin\n",
    "                matrix_type='rpkm'\n",
    "            de_plot_mx['metrics']=de_plot_mx['-log10(q values)']*np.abs(de_plot_mx['log2FoldChange'])\n",
    "            de_plot_mx = de_plot_mx.sort_values(['metrics'],ascending=0).iloc[:10]\n",
    "            de_plot_mx = de_plot_mx.sort_values(['log2FoldChange'],ascending=0)\n",
    "            rpkmtable = rpkmtable.loc[de_plot_mx.index]\n",
    "            de_plot_mx['log2RPKM'] = np.mean(log_transfrom(rpkmtable),axis=1)\n",
    "            de_plot_mx.index = np.array([name.split('|')[2]+'|'+name.split('|')[1] \n",
    "                                         #+'|'+name.split('|')[3]+'|'+name.split('|')[4] \n",
    "                                         for name in de_plot_mx.index.values])\n",
    "            fig, (ax) = plt.subplots(1, figsize=(6,3))\n",
    "            im = ax.scatter(de_plot_mx['log2FoldChange'],de_plot_mx.index,s=((de_plot_mx['log2RPKM']/area_[0]-0.5)*area_[1])**2,c=de_plot_mx['-log10(q values)'],cmap=newcmp)\n",
    "            cbar =fig.colorbar(im, ax=ax)\n",
    "            cbar.outline.set_visible(False)\n",
    "            interval = np.max(de_plot_mx.log2RPKM) - np.min(de_plot_mx.log2RPKM)\n",
    "            ratiointer = interval/2\n",
    "            pws = set(np.round(np.arange(np.min(de_plot_mx.log2RPKM),np.max(de_plot_mx.log2RPKM),ratiointer),0).astype(int))\n",
    "            for pw in pws:\n",
    "                ax.scatter([], [], s=((pw/area_[0]-0.5)*area_[1])**2, c=\"k\",label=str(pw))\n",
    "            ax = std_plot(ax,'Fold Change','Feature Name','DE bar plot of '+compare_group+' '+DE_method,'log('+matrix_type+')',\n",
    "                              borderpad=0.1,labelspacing=0.2,handletextpad=1,cbar=cbar,cbarlabel='-log10(q values)',xlim=[np.min(de_plot_mx['log2FoldChange'])-0.1,np.max(de_plot_mx['log2FoldChange'])+0.1])\n",
    "            fig.tight_layout()\n",
    "            fig.savefig(save_path+'DE_bar_plot_of_'+compare_group+'.'+DE_method+saveformat)\n",
    "            #embed_pdf_figure()\n",
    "            de_plot_mx.to_csv(save_path+'DE_selected_features.'+compare_group+'.'+DE_method+'.txt',sep='\\t')"
   ]
  },
  {
   "cell_type": "code",
   "execution_count": null,
   "metadata": {},
   "outputs": [],
   "source": [
    "DE_scatter()"
   ]
  },
  {
   "cell_type": "markdown",
   "metadata": {},
   "source": [
    "## abundance and diversity"
   ]
  },
  {
   "cell_type": "markdown",
   "metadata": {},
   "source": [
    "def filter_mx(expression_mx,cutoff_ratio = 0.2,counts_threshold = 10 ):\n",
    "    retain_index = np.where(np.sum(expression_mx > counts_threshold,axis=1) >=round(cutoff_ratio*expression_mx.shape[1]))[0]\n",
    "    return expression_mx.iloc[retain_index,:]"
   ]
  },
  {
   "cell_type": "code",
   "execution_count": null,
   "metadata": {},
   "outputs": [],
   "source": [
    "filter_mx=pd.read_table('output/'+dataset+'/matrix_processing/filter.'+exp_mx_name+'.txt')\n",
    "def div_abu_plot(expression_mx,savefig=True):\n",
    "    total_counts = expression_mx.shape[0]\n",
    "    type_counts_sample = pd.DataFrame()\n",
    "    for samplename in expression_mx.columns.values:\n",
    "        filter_zero_samplename = expression_mx.iloc[np.where(expression_mx[samplename]>0)[0],:]\n",
    "        names = filter_zero_samplename.index\n",
    "        names_type = np.array([names[i].split('|')[1] for i in range(names.shape[0])])\n",
    "        type_counts = np.unique(names_type, return_counts = True)\n",
    "        new = pd.DataFrame({'type' : type_counts[0],\n",
    "                            samplename : type_counts[1],\n",
    "                           })\n",
    "        new = new.set_index('type')\n",
    "        type_counts_sample = pd.concat([type_counts_sample, new], axis=1)#, join_axes=[df1.index]\n",
    "    typelist = np.unique([expression_mx.index[i].split('|')[1] for i in range(expression_mx.shape[0])])\n",
    "    type_mx = pd.DataFrame(index=typelist,columns=expression_mx.columns)\n",
    "    for sample in expression_mx.columns:\n",
    "        sample_feature = pd.DataFrame(data=expression_mx.loc[:,sample],index=expression_mx.index)\n",
    "        sample_feature['type']=[expression_mx.index[i].split('|')[1] for i in range(expression_mx.shape[0])]\n",
    "        for i in typelist:\n",
    "            type_mx.loc[i,sample] = sample_feature.iloc[np.where(sample_feature['type']==i)].iloc[:,0].sum()\n",
    "    table_ratio = (type_mx/type_mx.sum()).T\n",
    "    \n",
    "\n",
    "    xticks = type_counts_sample.index.tolist()\n",
    "    Means = type_counts_sample.mean(axis=1).values.tolist()\n",
    "    Std=type_counts_sample.std(axis=1).values.tolist()\n",
    "    mean_sd = pd.DataFrame(data = {'type':xticks,'mean':Means,'std':Std})\n",
    "    mean_sd = mean_sd.sort_values(by='mean',ascending=False)\n",
    "    mean_sd = mean_sd.set_index('type')\n",
    "    Std = [[0]*len(mean_sd['std'].tolist()),mean_sd['std'].tolist()]\n",
    "    ab = table_ratio*100\n",
    "\n",
    "    xticks_ab = ab.columns.tolist()\n",
    "    Means_ab = ab.mean(axis=0).values.tolist()\n",
    "    \n",
    "    Std_ab = ab.std(axis=0).values.tolist()\n",
    "    mean_sd_ab = pd.DataFrame(data = {'type':xticks_ab,'mean_ab':Means_ab,'std_ab':Std_ab})\n",
    "    mean_sd_ab = mean_sd_ab.set_index('type')\n",
    "    N = type_counts_sample.shape[0]\n",
    "    ind = np.arange(N)\n",
    "    merge = pd.concat([mean_sd,mean_sd_ab],axis=1,join_axes=[mean_sd.index])\n",
    "    Std_ab = [[0]*len(merge['std_ab'].tolist()),merge['std_ab'].tolist()]\n",
    "\n",
    "    merge = merge.sort_values(by='mean_ab',ascending=False)\n",
    "    xticks = np.array(merge.index.tolist())\n",
    "    tmpname,tmpcount = np.unique(np.array([i.split('|')[1] for i in expression_mx.index]),return_counts=1)\n",
    "    tmpdataframe = pd.DataFrame(np.zeros(tmpname.shape[0]))\n",
    "    tmpdataframe.index = tmpname\n",
    "\n",
    "    tmpdataframe.iloc[:,0] = tmpcount\n",
    "    fig,(ax,ax1) = plt.subplots(1,2,figsize = (5,2.6))\n",
    "    ax.barh(ind,tmpdataframe.loc[merge.index].iloc[:,0],0.7,xerr=None,color=np.array(['#cc3399','#3300ff','#006699','#339999','#66ffcc','#00ff00','#006600','#FFFF00','#FF6600','#FF0000','#FF9999']))\n",
    "    ax.invert_xaxis()\n",
    "    ax.set_yticks(ind)\n",
    "    ax.set_yticks([])\n",
    "    ax = std_plot(ax,'Number of RNA domains/miRNAs','','Number of RNA domains/miRNAs (cfRNA)',left=False,rotation=0,legendscale=False,legend_adj=False)#,ylim=[np.min(ind),np.max(ind)]\n",
    "    ax1.barh(ind,merge['mean_ab'],0.7,xerr=Std_ab,color=np.array(['#cc3399','#3300ff','#006699','#339999','#66ffcc','#00ff00','#006600','#FFFF00','#FF6600','#FF0000','#FF9999']))\n",
    "    ax1.set_yticks(ind)\n",
    "    xticks[np.where(xticks=='Y_RNA')] = 'Y RNA'\n",
    "    ax1.set_yticklabels(xticks)\n",
    "    \n",
    "    ax1 = std_plot(ax1,'Percentage of mapped reads (%)', '','Abundance',rotation=0,legendscale=False,legend_adj=False)\n",
    "    ax1.tick_params(direction='out', pad=4,length=0)\n",
    "    fig.tight_layout(w_pad=0.2)\n",
    "    if savefig is True:\n",
    "        fig.savefig(save_path+'diversity_abundance_cfRNA.eps')\n",
    "    #embed_pdf_figure()    \n",
    "    \n",
    "    return tmpdataframe.loc[merge.index],_\n",
    "diversity,ratio =div_abu_plot(expression_mx=filter_mx,\n",
    "                              savefig=True)"
   ]
  },
  {
   "cell_type": "code",
   "execution_count": null,
   "metadata": {},
   "outputs": [],
   "source": [
    "de_table=pd.read_table('output/'+dataset+'/differential_expression/'+exp_mx_name+'/Normal-HCC/deseq2.txt')\n",
    "rnaname_tmp,count_tmp = np.unique(np.array([i.split('|')[1] for i in de_table[de_table.padj<=0.05].index]),return_counts=1)\n",
    "div_df = pd.DataFrame([count_tmp]).T\n",
    "div_df.index = rnaname_tmp\n",
    "display_dataframe(div_df.loc[pd.DataFrame(diversity).index])\n"
   ]
  },
  {
   "cell_type": "code",
   "execution_count": null,
   "metadata": {},
   "outputs": [],
   "source": [
    "def plot_pie_de(df):\n",
    "    '''\n",
    "    data: table_ratio\n",
    "    rnanames: rna type names\n",
    "    adjustment: merge RNA with small percent together\n",
    "    '''\n",
    "    x = np.array(df.index)\n",
    "    y = (np.array(df.values)+10e-8).ravel()\n",
    "    y = y/y.sum()\n",
    "    z_ = np.array([x[i] + str(' {:.2f}'.format(y[i]*100)+'%') for i in range(y.shape[0])])\n",
    "    z = np.array([float('{:.10f}'.format(y[i]*100)) for i in range(y.shape[0])])\n",
    "    dataframe = pd.DataFrame(np.concatenate((x.reshape(-1,1),z.reshape(-1,1),z_.reshape(-1,1)),axis=1))\n",
    "    dataframe.columns=['rna','percent','label']\n",
    "    dataframe[\"percent\"] = pd.to_numeric(dataframe[\"percent\"])\n",
    "    dataframe['angle'] = dataframe['percent']/dataframe['percent'].sum() * 2*pi\n",
    "    dataframe['color'] = Category20c[len(x)]\n",
    "    p = figure(height=500,width=750, title=\"Pie Chart\", toolbar_location=None,\n",
    "               tools=\"hover\", tooltips=\"@label\", x_range=(-0.5, 1.0))\n",
    "    p.wedge(x=0.14, y=1, radius=0.45,\n",
    "            start_angle=cumsum('angle', include_zero=True), end_angle=cumsum('angle'),\n",
    "            line_color=\"black\", fill_color='color', legend=\"label\", source=dataframe)\n",
    "    p.axis.axis_label=None\n",
    "    p.axis.visible=False\n",
    "    p.grid.grid_line_color = None\n",
    "    show(p)\n"
   ]
  },
  {
   "cell_type": "code",
   "execution_count": null,
   "metadata": {},
   "outputs": [],
   "source": [
    "plot_pie_de(div_df.loc[pd.DataFrame(diversity).index].fillna(0))"
   ]
  },
  {
   "cell_type": "code",
   "execution_count": null,
   "metadata": {},
   "outputs": [],
   "source": [
    "domain_mx = filter_mx.iloc[np.where(np.array([i.split(\"|\")[1] for i in filter_mx.index])!='genomic')]\n",
    "domain_size = np.array([int(i.split('|')[-1]) -int(i.split('|')[-2]) for i in  domain_mx.index])"
   ]
  },
  {
   "cell_type": "code",
   "execution_count": null,
   "metadata": {},
   "outputs": [],
   "source": [
    "if sequencing_type=='short':\n",
    "    fig ,ax=plt.subplots(1,figsize=(2.5,2.5))\n",
    "    ax.hist(domain_size,bins=200,alpha=0.9)\n",
    "    ax = std_plot(ax,'Domain Size','','Domain size distribution',xlim=[20,150],legendscale=False,legend_adj=False)\n",
    "    fig.tight_layout()\n",
    "    fig.savefig(save_path+'domainsize.eps')\n",
    "    #embed_pdf_figure()    "
   ]
  }
 ],
 "metadata": {
  "hide_input": false,
  "kernelspec": {
   "display_name": "Python 3",
   "language": "python",
   "name": "python3"
  },
  "language_info": {
   "codemirror_mode": {
    "name": "ipython",
    "version": 3
   },
   "file_extension": ".py",
   "mimetype": "text/x-python",
   "name": "python",
   "nbconvert_exporter": "python",
   "pygments_lexer": "ipython3",
   "version": "3.6.7"
  },
  "latex_envs": {
   "LaTeX_envs_menu_present": true,
   "autoclose": false,
   "autocomplete": true,
   "bibliofile": "biblio.bib",
   "cite_by": "apalike",
   "current_citInitial": 1,
   "eqLabelWithNumbers": true,
   "eqNumInitial": 1,
   "hotkeys": {
    "equation": "Ctrl-E",
    "itemize": "Ctrl-I"
   },
   "labels_anchors": false,
   "latex_user_defs": false,
   "report_style_numbering": false,
   "user_envs_cfg": false
  },
  "toc": {
   "base_numbering": 1,
   "nav_menu": {},
   "number_sections": true,
   "sideBar": true,
   "skip_h1_title": false,
   "title_cell": "Table of Contents",
   "title_sidebar": "Contents",
   "toc_cell": false,
   "toc_position": {
    "height": "calc(100% - 180px)",
    "left": "10px",
    "top": "150px",
    "width": "183px"
   },
   "toc_section_display": true,
   "toc_window_display": true
  }
 },
 "nbformat": 4,
 "nbformat_minor": 2
}
