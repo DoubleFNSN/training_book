{
 "cells": [
  {
   "cell_type": "markdown",
   "metadata": {},
   "source": [
    "## Introduction to feature selection\n",
    "\n",
    "In machine learning, feature selection is need for several reasons:\n",
    "\n",
    "* (Interpretation) We want to know which features are most relevant.\n",
    "* (Computation) With fewer features, computation is more efficient in terms of time and memory.\n",
    "* (Performance) After filtering irrelevant features, the model is less prone to overfitting.\n",
    "\n",
    "In general, feature selection methods fall into three categories:\n",
    "\n",
    "**Filter methods**\n",
    "\n",
    "Feature selection is performed independently of the predictor. Usually filter methods are\n",
    "the fastest and simplest way do feature selection. Every feature or a group of features is\n",
    "evaluated in each step, and features that pass a given criteron are kept.\n",
    "\n",
    "**Wrapper methods**\n",
    "\n",
    "Different from filter methods in that a complex predictor is used to rank the features, \n",
    "which combines all features to make a prediction. Ideally, all subsets can be evaluated to get\n",
    "the best subset. However, greedy algorithms (e.g. sequential feature selection)\n",
    "and stochastic algorihtms are often used instead\n",
    "of best subset selection because the number of subsets increase exponentially with the number\n",
    "of features. Wrapper methods may be stuck in local minima if they cannot explore the whole feature\n",
    "subset space. Wrapper methods often require large computation resources especially the computational complexity\n",
    "of the predictor is high.\n",
    "\n",
    "**Embedded methods**\n",
    "\n",
    "Feature selection is embedded into a prediction algorithm, which is typically implemented by\n",
    "adding a regularization term, either explicitly or implicitly. Feature interdependence is considered by\n",
    "embedded methods. Compared to wrapper methods, the computational complexity embedded methods is lower."
   ]
  },
  {
   "cell_type": "markdown",
   "metadata": {},
   "source": [
    "## Import required Python packages"
   ]
  },
  {
   "cell_type": "code",
   "execution_count": 211,
   "metadata": {},
   "outputs": [
    {
     "name": "stdout",
     "output_type": "stream",
     "text": [
      "Populating the interactive namespace from numpy and matplotlib\n"
     ]
    }
   ],
   "source": [
    "%pylab inline\n",
    "import pandas as pd\n",
    "# For machine learning\n",
    "from sklearn.datasets import make_classification, make_regression\n",
    "from sklearn.preprocessing import StandardScaler\n",
    "from sklearn.linear_model import LogisticRegression\n",
    "from sklearn.ensemble import RandomForestClassifier\n",
    "from sklearn.neighbors import KNeighborsClassifier\n",
    "from sklearn.tree import DecisionTreeClassifier\n",
    "from sklearn.cluster import KMeans\n",
    "from sklearn.svm import SVC, LinearSVC\n",
    "from sklearn.gaussian_process import GaussianProcessClassifier\n",
    "from sklearn.decomposition import PCA\n",
    "from sklearn.model_selection import KFold, train_test_split, GridSearchCV, cross_val_score\n",
    "from sklearn.metrics import accuracy_score, roc_auc_score, f1_score, recall_score, precision_score, \\\n",
    "    roc_curve, precision_recall_curve, average_precision_score, matthews_corrcoef, confusion_matrix\n",
    "# For plotting\n",
    "import seaborn as sns\n",
    "sns.set()\n",
    "sns.set_style('whitegrid')"
   ]
  },
  {
   "cell_type": "markdown",
   "metadata": {},
   "source": [
    "## Seed the random number generator\n",
    "\n",
    "To make the randomly generated dataset reproducible, we fixed seed of the\n",
    "[numpy pseudo-random number generator](https://docs.scipy.org/doc/numpy/reference/generated/numpy.random.RandomState.html)."
   ]
  },
  {
   "cell_type": "code",
   "execution_count": 83,
   "metadata": {},
   "outputs": [],
   "source": [
    "random_state = np.random.RandomState(123456)"
   ]
  },
  {
   "cell_type": "markdown",
   "metadata": {},
   "source": [
    "## Generate dataset"
   ]
  },
  {
   "cell_type": "code",
   "execution_count": 190,
   "metadata": {},
   "outputs": [],
   "source": [
    "n_samples = 1000\n",
    "n_features = 50\n",
    "\n",
    "X, y = make_classification(n_samples=n_samples, n_classes=2, n_features=n_features,\n",
    "                           n_informative=3, n_redundant=2, n_clusters_per_class=2,\n",
    "                           class_sep=0.8, random_state=random_state)"
   ]
  },
  {
   "cell_type": "markdown",
   "metadata": {},
   "source": [
    "## Univariate feature selection\n",
    "\n",
    "Univariate feature selection removes features by calculating a statistical score for individual features\n",
    "only select features with high-ranking scores. Scores for each feature is calculated independently,\n",
    "make this method very efficient and can be performed in parallel.\n",
    "Univariate feature selection is useful when the number of features is very large, compared to the number samples.\n",
    "\n",
    "In univariate feature selection, scores are typically evaluated between input features and class labels/target variables. For classification problems, continous features can be scored using various statistical test, \n",
    "including [Mann-Whitney U tests](https://en.wikipedia.org/wiki/Mann–Whitney_U_test),\n",
    "[t-tests](https://en.wikipedia.org/wiki/Student%27s_t-test),\n",
    "[ANOVA models](https://en.wikipedia.org/wiki/Analysis_of_variance),\n",
    "area under the ROC curve (AUROC). \n",
    "ANOVA models can accomodate multi-class labels.\n",
    "For discrete features, chi-square test, mutual information or gini index are useful criteria.\n",
    "\n",
    "For regression problems, correlation coefficient or F-tests can be used for feature selection.\n",
    "\n",
    "Unsupervised filters do not use information about target variables, but can greatly reduce the number of features\n",
    "and is less prone to overfitting. Commonly used filters include non-zero fraction and variance.\n",
    "Sparse datasets contain large numbers of missing/zero values and features with too many missing values can be removed.\n",
    "Features with larger variance are probably more informative about target values.\n",
    "\n",
    "After calculating scores for each feature, we can simply select features according to k highest scores\n",
    "or a fixed threshold. If p-values of a statistical test are available, we can select p-values according to\n",
    "a given false positive rate (FPR), false discovery rate (FDR) or Family-wise error rate (FWE).\n",
    "\n",
    "Features according to [false positive rate (FPR)](https://en.wikipedia.org/wiki/False_positive_rate) are selected as:\n",
    "$$ p(x_k) \\le \\alpha $$\n",
    "\n",
    "Features according to [family-wise error rate (FWER)](https://en.wikipedia.org/wiki/Family-wise_error_rate)\n",
    "(also called [Bonferroni correction](https://en.wikipedia.org/wiki/Bonferroni_correction))\n",
    "are selected as:\n",
    "$$ p(x_k) \\le \\frac{1}{M} \\alpha $$\n",
    "\n",
    "Features according to false discovery rate (FDR) are selected by first sorting pvalues in accending order\n",
    "and then select significant features according the following criterion \n",
    "([Benjamini-hochberg procedure](https://en.wikipedia.org/wiki/False_discovery_rate)):\n",
    "$$ p(x_k) \\le \\frac{k}{M} \\alpha $$\n",
    "\n",
    "Because univariate feature selection considers each feature independently, redundant features may be selected."
   ]
  },
  {
   "cell_type": "markdown",
   "metadata": {},
   "source": [
    "### ANOVA F-test (classification)"
   ]
  },
  {
   "cell_type": "code",
   "execution_count": 46,
   "metadata": {},
   "outputs": [
    {
     "data": {
      "text/plain": [
       "GenericUnivariateSelect(mode='k_best', param=10,\n",
       "            score_func=<function f_classif at 0x7f3417d57048>)"
      ]
     },
     "execution_count": 46,
     "metadata": {},
     "output_type": "execute_result"
    }
   ],
   "source": [
    "from sklearn.feature_selection import GenericUnivariateSelect, f_classif\n",
    "\n",
    "selector = GenericUnivariateSelect(f_classif, mode='k_best', param=10)\n",
    "selector.fit(X, y)"
   ]
  },
  {
   "cell_type": "code",
   "execution_count": 48,
   "metadata": {},
   "outputs": [
    {
     "data": {
      "text/plain": [
       "[]"
      ]
     },
     "execution_count": 48,
     "metadata": {},
     "output_type": "execute_result"
    },
    {
     "data": {
      "image/png": "[encoded data removed]",
      "text/plain": [
       "<matplotlib.figure.Figure at 0x7f33f8e7a6a0>"
      ]
     },
     "metadata": {},
     "output_type": "display_data"
    }
   ],
   "source": [
    "plot_data = pd.DataFrame({\n",
    "    '-log10(p-value)': -np.log10(selector.pvalues_),\n",
    "    'Feature': np.arange(n_features),\n",
    "    'Selected': selector.get_support()\n",
    "})\n",
    "fig, ax = plt.subplots(figsize=(14, 7))\n",
    "sns.barplot(x='-log10(p-value)', y='Feature', hue='Selected', orient='h',\n",
    "            data=plot_data, ax=ax)\n",
    "ax.set_yticks([])"
   ]
  },
  {
   "cell_type": "markdown",
   "metadata": {},
   "source": [
    "### Linear regression F-test (regression)"
   ]
  },
  {
   "cell_type": "code",
   "execution_count": 212,
   "metadata": {},
   "outputs": [
    {
     "data": {
      "text/plain": [
       "[]"
      ]
     },
     "execution_count": 212,
     "metadata": {},
     "output_type": "execute_result"
    },
    {
     "data": {
      "image/png": "[encoded data removed]",
      "text/plain": [
       "<matplotlib.figure.Figure at 0x7f33cf32e9e8>"
      ]
     },
     "metadata": {},
     "output_type": "display_data"
    }
   ],
   "source": [
    "from sklearn.feature_selection import f_regression\n",
    "\n",
    "n_samples = 1000\n",
    "n_features = 50\n",
    "X_reg, y_reg = make_regression(n_samples=n_samples, n_features=n_features,\n",
    "                       n_informative=3, noise=1, random_state=random_state)\n",
    "\n",
    "selector = GenericUnivariateSelect(f_regression, mode='k_best', param=10)\n",
    "selector.fit(X_reg, y_reg)\n",
    "\n",
    "plot_data = pd.DataFrame({\n",
    "    '-log10(p-value)': -np.log10(selector.pvalues_),\n",
    "    'Feature': np.arange(n_features),\n",
    "    'Selected': selector.get_support()\n",
    "})\n",
    "fig, ax = plt.subplots(figsize=(14, 7))\n",
    "sns.barplot(x='-log10(p-value)', y='Feature', hue='Selected', orient='h',\n",
    "            data=plot_data, ax=ax)\n",
    "ax.set_yticks([])"
   ]
  },
  {
   "cell_type": "markdown",
   "metadata": {},
   "source": [
    "## External validation\n",
    "\n",
    "It is a common mistake to do feature selection on the whole dataset prior to external validation such as\n",
    "cross-validation. It should be realized that many feature selection process already uses information\n",
    "of class labels/target variables and can overfit. Feature selection should be included as part of\n",
    "model training process and only use training data.\n",
    "\n",
    "A typical workflow is:\n",
    "\n",
    "```python\n",
    "scores = [0 for i in range(resample_rounds)]\n",
    "for i in range(resample_rounds):\n",
    "    X_train, y_train, X_test, y_test = resample(X, y)\n",
    "    features = select_features(X_train, y_train)\n",
    "    predictor = Predictor()\n",
    "    predictor.fit(X_train[:, features], y_train)\n",
    "    y_pred = predictor.predict(X_test[:, features])\n",
    "    scores[i] = evaluate(y_test, y_pred)\n",
    "mean_score = mean(scores)\n",
    "```\n",
    "\n",
    "For unsupervised feature selection methods, feature selection can be performed outside the validation loop."
   ]
  },
  {
   "cell_type": "markdown",
   "metadata": {},
   "source": [
    "## Recursive feature elimination (RFE)\n",
    "\n"
   ]
  },
  {
   "cell_type": "code",
   "execution_count": 118,
   "metadata": {},
   "outputs": [
    {
     "data": {
      "text/plain": [
       "Text(0,0.5,'Feature')"
      ]
     },
     "execution_count": 118,
     "metadata": {},
     "output_type": "execute_result"
    },
    {
     "data": {
      "image/png": "[encoded data removed]",
      "text/plain": [
       "<matplotlib.figure.Figure at 0x7f33f9838e10>"
      ]
     },
     "metadata": {},
     "output_type": "display_data"
    }
   ],
   "source": [
    "from sklearn.feature_selection import RFECV\n",
    "\n",
    "model = LinearSVC()\n",
    "cv = RFECV(model, cv=3, step=0.1)\n",
    "cv.fit(X, y)\n",
    "\n",
    "fig, ax = plt.subplots(figsize=(14, 6))\n",
    "feature_importances = np.zeros(n_features)\n",
    "feature_importances[cv.support_] = np.abs(np.ravel(cv.estimator_.coef_))\n",
    "sns.barplot(x=feature_importances, y=np.arange(n_features), color='gray', orient='h',\n",
    "            ax=ax)\n",
    "ax.set_yticks([])\n",
    "ax.set_xlabel('Feature importance')\n",
    "ax.set_ylabel('Feature')"
   ]
  },
  {
   "cell_type": "markdown",
   "metadata": {},
   "source": [
    "## Sequential Forward Selection (SFS)\n",
    "\n",
    "Sequential feature selection (SFS) is a greedy algorithm for best subset feature selection.\n",
    "SFS is wrapper method that ranks features according to a prediction model.\n",
    "SFS starts with an empty feature set. During each step, SFS tries to add a feature from remaining\n",
    "features to the current feature set and train the predictor on the new feature set.\n",
    "A given metric (e.g. accuracy) is used to evaluate the prediction performance on the feature set.\n",
    "Optionally, cross-validation can be used to prevent overfitting.\n",
    "After enumerating all remaining features, SFS keeps a feature with the highest prediction performance\n",
    "and add the feature to the current feature set. The feature stops when a desired number of features\n",
    "are selected.\n",
    "\n",
    "Because SFS retrain the model for every remaining feature and for every step, it demands huge computational\n",
    "resources when the desired number of features is large. For this reason, SFS is recommended only when we\n",
    "want to select a small number of features.\n",
    "\n",
    "Due to the greedy nature of the SFS algorithm, the selected feature subset is not optimal.\n",
    "To overcome local minima, stochastic algorithms such as genetic algorithm (GA) or other types of randomness can\n",
    "be included in the algorithm."
   ]
  },
  {
   "cell_type": "code",
   "execution_count": 189,
   "metadata": {},
   "outputs": [
    {
     "data": {
      "text/plain": [
       "(0.5, 1)"
      ]
     },
     "execution_count": 189,
     "metadata": {},
     "output_type": "execute_result"
    },
    {
     "data": {
      "image/png": "[encoded data removed]",
      "text/plain": [
       "<matplotlib.figure.Figure at 0x7f33cf8a5d30>"
      ]
     },
     "metadata": {},
     "output_type": "display_data"
    }
   ],
   "source": [
    "from mlxtend.feature_selection import SequentialFeatureSelector\n",
    "\n",
    "model = LogisticRegression()\n",
    "sfs = SequentialFeatureSelector(model, k_features=5,\n",
    "                                forward=True, floating=False, scoring='accuracy', cv=5)\n",
    "sfs.fit(X, y)\n",
    "\n",
    "added_features = []\n",
    "for i in range(1, len(sfs.subsets_) + 1):\n",
    "    if i == 1:\n",
    "        added_features.append(sfs.subsets_[i]['feature_idx'][0])\n",
    "    else:\n",
    "        added_features.append(list(set(sfs.subsets_[i]['feature_idx']) - set(sfs.subsets_[i - 1]['feature_idx']))[0])\n",
    "added_features\n",
    "\n",
    "plot_data = pd.DataFrame(np.column_stack([sfs.subsets_[i]['cv_scores'] for i in sfs.subsets_]))\n",
    "plot_data = pd.melt(plot_data, var_name='n_features', value_name='accuracy')\n",
    "fig, ax = plt.subplots(figsize=(10, 7))\n",
    "sns.stripplot('n_features', 'accuracy', color=(0.6, 0.6, 1.0), data=plot_data, ax=ax)\n",
    "sns.pointplot('n_features', 'accuracy', color=(0.3, 0.3, 1.0), data=plot_data, \n",
    "              join=False, ci=None, ax=ax, markers='d')\n",
    "ax.set_xticklabels(['{} ({})'.format(i + 1, feature) for i, feature in enumerate(added_features)])\n",
    "ax.set_xlabel('n_features (added feature)')\n",
    "ax.set_ylim(0.5, 1)"
   ]
  },
  {
   "cell_type": "markdown",
   "metadata": {},
   "source": [
    "## Embedded feature selection\n",
    "\n",
    "\n",
    "\n",
    "\n"
   ]
  },
  {
   "cell_type": "markdown",
   "metadata": {},
   "source": [
    "### LASSO\n",
    "\n",
    "LASSO is a linear model with L1 regularization on the coefficients.\n",
    "$$ \\text{Loss} = \\sum_{i=1}^N error(\\mathbf{w}^{T} \\mathbf{x}_i + b, y_i) + \\alpha ||\\mathbf{w}||_1 $$\n",
    "where\n",
    "$$ ||\\mathbf{w}||_1 = \\sum_{k=1}^M |w_k| $$\n",
    "\n",
    "The error function depends on the prediction problem. \n",
    "For classification, a Logistic/sigmoid function transforms the linear combination to a class probability\n",
    "between 0 and 1. Then a negative log-likelihood/cross-entropy between predicted probability\n",
    "and true class labels is used as the error function.\n",
    "For regression, squared error is used as the error function.\n",
    "\n",
    "LASSO generate sparse coefficients (with many zero coefficients) through the L1 regularization term.\n",
    "The loss function of LASSO can be rewritten as a constrained optimization problem. Because\n",
    "the feasible region contains many corners anchored at the axes (zero values on some dimensions),\n",
    "there is high probability that the contour of an objective function will hit one of the corners.\n",
    "The regularization strength $\\alpha$ controls the sparseness of the solution.\n",
    "Typically, grid search is used to optimize hyper-parameter $\\alpha$ according to cross-validation scores.\n",
    "$\\alpha$ is commonly choosen on a exponential scale (e.g. from $10^{-6}$ to $10^{6}$)."
   ]
  },
  {
   "cell_type": "code",
   "execution_count": 94,
   "metadata": {},
   "outputs": [
    {
     "name": "stdout",
     "output_type": "stream",
     "text": [
      "Optimized C = 0.1\n"
     ]
    },
    {
     "data": {
      "text/plain": [
       "Text(0,0.5,'Feature')"
      ]
     },
     "execution_count": 94,
     "metadata": {},
     "output_type": "execute_result"
    },
    {
     "data": {
      "image/png": "[encoded data removed]",
      "text/plain": [
       "<matplotlib.figure.Figure at 0x7f33f695fc88>"
      ]
     },
     "metadata": {},
     "output_type": "display_data"
    }
   ],
   "source": [
    "from sklearn.linear_model import LogisticRegressionCV\n",
    "model = LogisticRegressionCV(Cs=10**np.arange(-6, 7, dtype='float'),\n",
    "                             penalty='l1', dual=False, solver='liblinear')\n",
    "model.fit(X, y)\n",
    "\n",
    "print('Optimized C = {}'.format(model.C_[0]))\n",
    "\n",
    "fig, ax = plt.subplots(figsize=(14, 6))\n",
    "sns.barplot(x=np.abs(np.ravel(model.coef_)), y=np.arange(n_features), color='gray', orient='h',\n",
    "            ax=ax)\n",
    "ax.set_yticks([])\n",
    "ax.set_xlabel('Feature importance')\n",
    "ax.set_ylabel('Feature')"
   ]
  },
  {
   "cell_type": "markdown",
   "metadata": {},
   "source": [
    "### Elastic net\n",
    "\n",
    "Elastic net is also a linear model, but combines L1 and L2 regularization.\n",
    "L2 regularization penalize more on coefficient values to prevent overfitting and colinearity\n",
    "(linear correlation between features).\n",
    "L1 regularization focus more on sparseness, but is susceptible to colinearity and may also \n",
    "generate large weights.\n",
    "\n",
    "$$ \\text{Loss} = \\sum_{i=1}^N \\text{error}(\\mathbf{w}^{T} \\mathbf{x}_i + b, y_i) \n",
    "+ \\alpha [ \\theta \\cdot ||\\mathbf{w}||_1\n",
    "+ (1 - \\theta) \\cdot ||\\mathbf{w}||_2^2 ] $$\n",
    "where\n",
    "$$ ||\\mathbf{w}||_2^2 = \\sum_{k=1}^M w_k^2 $$\n",
    "\n",
    "Elastic net contains two hyper-paremeters: $\\alpha$ and $\\theta$. The additional parameter $\\theta$\n",
    "controls the ratio between L1 and L2 regularization. When $\\theta = 1$, it becomes LASSO.\n",
    "When $\\theta = 0$, it becomes RIDGE (with only L2 regularization)."
   ]
  },
  {
   "cell_type": "code",
   "execution_count": 193,
   "metadata": {},
   "outputs": [
    {
     "data": {
      "text/plain": [
       "Text(0,0.5,'Feature')"
      ]
     },
     "execution_count": 193,
     "metadata": {},
     "output_type": "execute_result"
    },
    {
     "data": {
      "image/png": "[encoded data removed]",
      "text/plain": [
       "<matplotlib.figure.Figure at 0x7f33cf979390>"
      ]
     },
     "metadata": {},
     "output_type": "display_data"
    }
   ],
   "source": [
    "from sklearn.linear_model import ElasticNetCV\n",
    "\n",
    "model = ElasticNetCV(l1_ratio=0.5)\n",
    "model.fit(X, y)\n",
    "\n",
    "fig, ax = plt.subplots(figsize=(14, 6))\n",
    "sns.barplot(x=np.abs(np.ravel(model.coef_)), y=np.arange(n_features), color='gray', orient='h',\n",
    "            ax=ax)\n",
    "ax.set_yticks([])\n",
    "ax.set_xlabel('Feature importance')\n",
    "ax.set_ylabel('Feature')"
   ]
  },
  {
   "cell_type": "markdown",
   "metadata": {},
   "source": [
    "### Decision tree\n",
    "\n",
    "Decision tree is a rule-based predictor. Each rule is a criterion on one feature.\n",
    "Each rule/node separate the samples into two subsets with increases homogeneity/purity.\n",
    "Each node grows until all samples are perfectly separated (all leave nodes contains \n",
    "samples from a single class) or a given maximum depth is reached.\n",
    "\n",
    "If a subset of features is sufficient to separate all samples, these features formed the selected feature set.\n",
    "Alternatively, we can select features according to feature importance.\n",
    "After a decision tree has been built, feature importances are calculated as the sum of weighted number of rules\n",
    "used in the tree."
   ]
  },
  {
   "cell_type": "code",
   "execution_count": 194,
   "metadata": {},
   "outputs": [
    {
     "data": {
      "text/plain": [
       "Text(0,0.5,'Feature')"
      ]
     },
     "execution_count": 194,
     "metadata": {},
     "output_type": "execute_result"
    },
    {
     "data": {
      "image/png": "[encoded data removed]",
      "text/plain": [
       "<matplotlib.figure.Figure at 0x7f33cfacdba8>"
      ]
     },
     "metadata": {},
     "output_type": "display_data"
    }
   ],
   "source": [
    "from sklearn.tree import DecisionTreeClassifier\n",
    "\n",
    "model = DecisionTreeClassifier()\n",
    "cv = GridSearchCV(model, param_grid={'max_depth': list(range(1, 10))}, cv=3)\n",
    "cv.fit(X, y)\n",
    "model = cv.best_estimator_\n",
    "\n",
    "fig, ax = plt.subplots(figsize=(14, 6))\n",
    "sns.barplot(x=np.abs(np.ravel(model.feature_importances_)), y=np.arange(n_features), color='gray', orient='h',\n",
    "            ax=ax)\n",
    "ax.set_yticks([])\n",
    "ax.set_xlabel('Feature importance')\n",
    "ax.set_ylabel('Feature')"
   ]
  },
  {
   "cell_type": "markdown",
   "metadata": {},
   "source": [
    "We can use the [sklearn.tree.export_graphviz](http://scikit-learn.org/stable/modules/generated/sklearn.tree.export_graphviz.html)\n",
    "to visualize the rules in the tree."
   ]
  },
  {
   "cell_type": "code",
   "execution_count": 208,
   "metadata": {},
   "outputs": [
    {
     "data": {
      "image/png": "[encoded data removed]",
      "text/plain": [
       "<wand.image.Image: 33a35d6 'PDF' (598x342)>"
      ]
     },
     "execution_count": 208,
     "metadata": {},
     "output_type": "execute_result"
    }
   ],
   "source": [
    "import graphviz\n",
    "from sklearn.tree import export_graphviz\n",
    "from wand.image import Image as WImage\n",
    "\n",
    "graph_data = export_graphviz(model, out_file=None, filled=True, rounded=True) \n",
    "graph = graphviz.Source(graph_data) \n",
    "graph.render('decision_tree')\n",
    "WImage(filename='decision_tree.pdf', resolution=72)"
   ]
  },
  {
   "cell_type": "markdown",
   "metadata": {},
   "source": [
    "### Random forest\n",
    "\n",
    "Random forest is an ensemble algorithm that combines predictions of many decision trees.\n",
    "Randomness is incorporated into each decision tree by bootstraping training samples or tree building process.\n",
    "A single decision tree is easy to overfit because it tries to separate samples perfectly\n",
    "but realistic data usually contains noise features. Due to randomness in training individual decision trees,\n",
    "each tree may give different predictions for a sample. These predictions/votes are combined through \n",
    "majority rule. The fraction of decision trees that contribute to the prediction defines the confidence/probability\n",
    "of the prediction. The ensemble strategy inherits the advantage of decision tree in non-learn modeling of data\n",
    "and is robust against overfitting, which makes random forest an off-the-shelf algorithm\n",
    "for a general machine learning problem.\n",
    "\n",
    "This example uses grid search with cross-validation to optimize two hyper-parameters:\n",
    "max tree depth and number of trees. Finally, it computes feature importances by averageing feature importances\n",
    "of individual trees. The feature importances are not as sparse as decision trees, but a few features\n",
    "stand out among others."
   ]
  },
  {
   "cell_type": "code",
   "execution_count": 210,
   "metadata": {},
   "outputs": [
    {
     "name": "stdout",
     "output_type": "stream",
     "text": [
      "Optimized hyper-parameters: max_depth = 4, n_estimators = 4\n"
     ]
    },
    {
     "data": {
      "text/plain": [
       "Text(0,0.5,'Feature')"
      ]
     },
     "execution_count": 210,
     "metadata": {},
     "output_type": "execute_result"
    },
    {
     "data": {
      "image/png": "[encoded data removed]",
      "text/plain": [
       "<matplotlib.figure.Figure at 0x7f33cf305c18>"
      ]
     },
     "metadata": {},
     "output_type": "display_data"
    }
   ],
   "source": [
    "from sklearn.ensemble import RandomForestClassifier\n",
    "\n",
    "model = RandomForestClassifier()\n",
    "cv = GridSearchCV(model, param_grid={\n",
    "    'max_depth': list(range(1, 5)),\n",
    "    'n_estimators': list(range(10, 60, 10))},\n",
    "    cv=3)\n",
    "cv.fit(X, y)\n",
    "model = cv.best_estimator_\n",
    "print('Optimized hyper-parameters: max_depth = {}, n_estimators = {}'.format(\n",
    "    cv.best_estimator_.max_depth, cv.best_estimator_.max_depth))\n",
    "\n",
    "fig, ax = plt.subplots(figsize=(14, 6))\n",
    "sns.barplot(x=np.abs(np.ravel(model.feature_importances_)), y=np.arange(n_features), color='gray', orient='h',\n",
    "            ax=ax)\n",
    "ax.set_yticks([])\n",
    "ax.set_xlabel('Feature importance')\n",
    "ax.set_ylabel('Feature')"
   ]
  },
  {
   "cell_type": "markdown",
   "metadata": {},
   "source": [
    "## Homework\n",
    "\n",
    "1. Understand and run code in this tutorial on a Jupyter notebook.\n",
    "2. Try univariate feature selection using FDR, FWER, FPR and compare features selected by each method.\n",
    "3. Implement recursive feature elimination (RFE) by yourself. Eliminate 10% features in each round. Plot cross-validation scores (ROAUC) vs number of features.\n",
    "4. Try varying the regularization parameter ($\\alpha$ and $\\theta$) in LASSO and elastic net and see how they affect the selected features and coefficients."
   ]
  },
  {
   "cell_type": "markdown",
   "metadata": {},
   "source": [
    "## Further reading\n",
    "\n",
    "1. Chandrashekar, G., and Sahin, F. (2014). A survey on feature selection methods. Computers & Electrical Engineering 40, 16–28.\n",
    "2. Guyon, I., and Elisseeff, A. (2003). An Introduction to Variable and Feature Selection. J. Mach. Learn. Res. 3, 1157–1182.\n",
    "3. Saeys, Y., Inza, I., and Larrañaga, P. (2007). A review of feature selection techniques in bioinformatics. Bioinformatics 23, 2507–2517."
   ]
  },
  {
   "cell_type": "code",
   "execution_count": null,
   "metadata": {},
   "outputs": [],
   "source": []
  }
 ],
 "metadata": {
  "kernelspec": {
   "display_name": "Python 3",
   "language": "python",
   "name": "python3"
  },
  "language_info": {
   "codemirror_mode": {
    "name": "ipython",
    "version": 3
   },
   "file_extension": ".py",
   "mimetype": "text/x-python",
   "name": "python",
   "nbconvert_exporter": "python",
   "pygments_lexer": "ipython3",
   "version": "3.6.3"
  },
  "toc": {
   "base_numbering": 1,
   "nav_menu": {},
   "number_sections": true,
   "sideBar": true,
   "skip_h1_title": false,
   "title_cell": "Table of Contents",
   "title_sidebar": "Contents",
   "toc_cell": false,
   "toc_position": {},
   "toc_section_display": true,
   "toc_window_display": true
  }
 },
 "nbformat": 4,
 "nbformat_minor": 2
}
